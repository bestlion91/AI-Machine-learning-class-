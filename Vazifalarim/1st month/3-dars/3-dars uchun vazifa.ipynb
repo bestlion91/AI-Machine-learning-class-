{
 "cells": [
  {
   "cell_type": "markdown",
   "id": "ca08edcc",
   "metadata": {},
   "source": [
    "# Conditions"
   ]
  },
  {
   "cell_type": "code",
   "execution_count": 3,
   "id": "29a55a7d",
   "metadata": {},
   "outputs": [
    {
     "data": {
      "text/plain": [
       "True"
      ]
     },
     "execution_count": 3,
     "metadata": {},
     "output_type": "execute_result"
    }
   ],
   "source": [
    "a=2\n",
    "b=1\n",
    "a!=b"
   ]
  },
  {
   "cell_type": "code",
   "execution_count": 5,
   "id": "5ad79dda",
   "metadata": {},
   "outputs": [
    {
     "name": "stdout",
     "output_type": "stream",
     "text": [
      "Kiring\n"
     ]
    }
   ],
   "source": [
    "x=1234\n",
    "if x==1234:\n",
    "    print('Kiring')\n",
    "else:\n",
    "    print('Xato qaytadan urinib koring')"
   ]
  },
  {
   "cell_type": "code",
   "execution_count": null,
   "id": "f8f821c6",
   "metadata": {},
   "outputs": [],
   "source": [
    "x=int(input('Parolni kiriting:'))"
   ]
  },
  {
   "cell_type": "code",
   "execution_count": 7,
   "id": "ecd70ef5",
   "metadata": {},
   "outputs": [
    {
     "name": "stdout",
     "output_type": "stream",
     "text": [
      "Ok\n"
     ]
    }
   ],
   "source": [
    "# Agar x=1 ga teng bolsa ok degan soni ekranga chiqaring\n",
    "x=int(input('Sonni kiriting:'))\n",
    "if x==1:\n",
    "    print('Ok')"
   ]
  },
  {
   "cell_type": "code",
   "execution_count": 9,
   "id": "3f92a938",
   "metadata": {},
   "outputs": [
    {
     "name": "stdout",
     "output_type": "stream",
     "text": [
      "Xato\n"
     ]
    }
   ],
   "source": [
    "# Agar x=1 ga teng bolsa ok degan soni ekranga chiqaring aks xolda xato degan xabarni chiqaring\n",
    "x=int(input('Sonni kiriting:'))\n",
    "if x==1:\n",
    "    print('Ok')\n",
    "else:\n",
    "    print('Xato')"
   ]
  },
  {
   "cell_type": "code",
   "execution_count": 12,
   "id": "fca3166e",
   "metadata": {},
   "outputs": [
    {
     "name": "stdout",
     "output_type": "stream",
     "text": [
      "Manfiy son\n"
     ]
    }
   ],
   "source": [
    "# Agar x=1 ga teng bolsa ok degan soni ekranga chiqaring x=-1 unda manfiy son degan ekranga chiqaring aks xolda xato degan xabarni chiqaring\n",
    "x=int(input('Sonni kiriting:'))\n",
    "if x==1:\n",
    "    print('Ok')\n",
    "elif x==-1:\n",
    "    print('Manfiy son')\n",
    "else:\n",
    "    print('Xato')"
   ]
  },
  {
   "cell_type": "code",
   "execution_count": null,
   "id": "37960651",
   "metadata": {},
   "outputs": [
    {
     "name": "stdout",
     "output_type": "stream",
     "text": [
      "Nolga teng\n"
     ]
    }
   ],
   "source": [
    "# Agar x=1 ga teng bolsa ok degan soni ekranga chiqaring x=-1 unda manfiy son degan ekranga chiqaring aks xolda xato degan xabarni chiqaring\n",
    "x=int(input('Sonni kiriting:'))\n",
    "if x==1:\n",
    "    print('Ok')\n",
    "elif x==-1 and x==0:\n",
    "    print('Manfiy son yoki nolga teng')\n",
    "\n",
    "else:\n",
    "    print('Xato')"
   ]
  },
  {
   "cell_type": "markdown",
   "id": "38d28909",
   "metadata": {},
   "source": [
    "# Vazifa"
   ]
  },
  {
   "cell_type": "code",
   "execution_count": null,
   "id": "7f333b82",
   "metadata": {},
   "outputs": [],
   "source": [
    "# Istalgan son berilganda uni musbat yoki manfiyligini aniqlovchi dastur tuzing\n",
    "# Musbat son berilganda musbat degan xabarni manfiy son berilganda manfiy degan xabarni chiqaring\n",
    "# Istalgan son berilganda uni 5 ga bo'linishini aniqlovchi dastur tuzing# Agar berilgan so'zning dastlabki xarfi unli bo'lsa unli harf degan xabarni chiqaring aks xolda undosh harf degan xabarni chiqaring\n"
   ]
  },
  {
   "cell_type": "code",
   "execution_count": 17,
   "id": "c4532c43",
   "metadata": {},
   "outputs": [
    {
     "name": "stdout",
     "output_type": "stream",
     "text": [
      "manfiy\n"
     ]
    }
   ],
   "source": [
    "# Istalgan son berilganda uni musbat yoki manfiyligini aniqlovchi dastur tuzing\n",
    "x=int(input('Sonni kiriting'))\n",
    "if x>0:\n",
    "    print('musbat')\n",
    "if x<0:\n",
    "    print('manfiy')"
   ]
  },
  {
   "cell_type": "code",
   "execution_count": 23,
   "id": "7fafc6bb",
   "metadata": {},
   "outputs": [
    {
     "name": "stdout",
     "output_type": "stream",
     "text": [
      "berilgan son 5 ga bo'linmaydi.\n"
     ]
    }
   ],
   "source": [
    "# Istalgan son berilganda uni 5 ga bo'linishini aniqlovchi dastur tuzing\n",
    "x=int(input('Istalgan sonni sonni kiriting'))\n",
    "if x % 5 == 0:\n",
    "    print(\"berilgan son 5 ga bo'linadi\")\n",
    "else:\n",
    "    print(\"berilgan son 5 ga bo'linmaydi.\")"
   ]
  },
  {
   "cell_type": "code",
   "execution_count": 41,
   "id": "88847b15",
   "metadata": {},
   "outputs": [
    {
     "ename": "ValueError",
     "evalue": "invalid literal for int() with base 10: 'ali'",
     "output_type": "error",
     "traceback": [
      "\u001b[31m---------------------------------------------------------------------------\u001b[39m",
      "\u001b[31mValueError\u001b[39m                                Traceback (most recent call last)",
      "\u001b[36mCell\u001b[39m\u001b[36m \u001b[39m\u001b[32mIn[41]\u001b[39m\u001b[32m, line 2\u001b[39m\n\u001b[32m      1\u001b[39m \u001b[38;5;66;03m# Agar berilgan so'zning dastlabki xarfi unli bo'lsa unli harf degan xabarni chiqaring aks xolda undosh harf degan xabarni chiqaring\u001b[39;00m\n\u001b[32m----> \u001b[39m\u001b[32m2\u001b[39m x=\u001b[38;5;28;43mint\u001b[39;49m\u001b[43m(\u001b[49m\u001b[38;5;28;43minput\u001b[39;49m\u001b[43m(\u001b[49m\u001b[33;43m'\u001b[39;49m\u001b[33;43msozni kiriting\u001b[39;49m\u001b[33;43m'\u001b[39;49m\u001b[43m)\u001b[49m\u001b[43m)\u001b[49m\n\u001b[32m      3\u001b[39m \u001b[38;5;28;01mif\u001b[39;00m x==a:\n\u001b[32m      4\u001b[39m     \u001b[38;5;28mprint\u001b[39m(\u001b[33m'\u001b[39m\u001b[33munli\u001b[39m\u001b[33m'\u001b[39m)\n",
      "\u001b[31mValueError\u001b[39m: invalid literal for int() with base 10: 'ali'"
     ]
    }
   ],
   "source": [
    "# Agar berilgan so'zning dastlabki xarfi unli bo'lsa unli harf degan xabarni chiqaring aks xolda undosh harf degan xabarni chiqaring\n",
    "x=int(input('sozni kiriting'))\n",
    "if x==a:\n",
    "    print('unli')\n",
    "else:\n",
    "    print('undosh')"
   ]
  }
 ],
 "metadata": {
  "kernelspec": {
   "display_name": "Python 3",
   "language": "python",
   "name": "python3"
  },
  "language_info": {
   "codemirror_mode": {
    "name": "ipython",
    "version": 3
   },
   "file_extension": ".py",
   "mimetype": "text/x-python",
   "name": "python",
   "nbconvert_exporter": "python",
   "pygments_lexer": "ipython3",
   "version": "3.11.2"
  }
 },
 "nbformat": 4,
 "nbformat_minor": 5
}
