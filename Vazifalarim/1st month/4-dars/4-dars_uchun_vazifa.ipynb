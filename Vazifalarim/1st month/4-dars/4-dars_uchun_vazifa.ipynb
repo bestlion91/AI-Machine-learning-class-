{
 "cells": [
  {
   "cell_type": "markdown",
   "id": "f018b199",
   "metadata": {},
   "source": [
    "# Kutubxonalar"
   ]
  },
  {
   "cell_type": "code",
   "execution_count": 1,
   "id": "31980d2e",
   "metadata": {},
   "outputs": [
    {
     "name": "stdout",
     "output_type": "stream",
     "text": [
      "Requirement already satisfied: pandas in c:\\users\\aaa\\appdata\\local\\programs\\python\\python311\\lib\\site-packages (2.2.3)\n",
      "Requirement already satisfied: numpy>=1.23.2 in c:\\users\\aaa\\appdata\\local\\programs\\python\\python311\\lib\\site-packages (from pandas) (2.2.4)\n",
      "Requirement already satisfied: python-dateutil>=2.8.2 in c:\\users\\aaa\\appdata\\roaming\\python\\python311\\site-packages (from pandas) (2.9.0.post0)\n",
      "Requirement already satisfied: pytz>=2020.1 in c:\\users\\aaa\\appdata\\local\\programs\\python\\python311\\lib\\site-packages (from pandas) (2025.2)\n",
      "Requirement already satisfied: tzdata>=2022.7 in c:\\users\\aaa\\appdata\\local\\programs\\python\\python311\\lib\\site-packages (from pandas) (2025.2)\n",
      "Requirement already satisfied: six>=1.5 in c:\\users\\aaa\\appdata\\roaming\\python\\python311\\site-packages (from python-dateutil>=2.8.2->pandas) (1.17.0)\n",
      "Note: you may need to restart the kernel to use updated packages.\n"
     ]
    },
    {
     "name": "stderr",
     "output_type": "stream",
     "text": [
      "\n",
      "[notice] A new release of pip available: 22.3.1 -> 25.0.1\n",
      "[notice] To update, run: python.exe -m pip install --upgrade pip\n"
     ]
    }
   ],
   "source": [
    "pip install pandas"
   ]
  },
  {
   "cell_type": "code",
   "execution_count": 10,
   "id": "3e395b18",
   "metadata": {},
   "outputs": [],
   "source": [
    "import pandas as pd\n"
   ]
  },
  {
   "cell_type": "markdown",
   "id": "ad368704",
   "metadata": {},
   "source": [
    "# Ternary Conditions"
   ]
  },
  {
   "cell_type": "code",
   "execution_count": null,
   "id": "b36f266d",
   "metadata": {},
   "outputs": [
    {
     "name": "stdout",
     "output_type": "stream",
     "text": [
      "Berilgan son manfiy\n"
     ]
    }
   ],
   "source": [
    "x=int(input('Sonni kiriting:'))\n",
    "if x>0:\n",
    "    print('Berilgan son musbat')\n",
    "elif x<0:\n",
    "    print('Berilgan son manfiy')\n",
    "else:\n",
    "    print('Berilgan son nolga teng') # manfiy 25 kiritildi"
   ]
  },
  {
   "cell_type": "code",
   "execution_count": 13,
   "id": "de053a78",
   "metadata": {},
   "outputs": [
    {
     "data": {
      "text/plain": [
       "'Berilgan son manfiy'"
      ]
     },
     "execution_count": 13,
     "metadata": {},
     "output_type": "execute_result"
    }
   ],
   "source": [
    "'Berilgan son musbat' if x>0 else 'Berilgan son manfiy' if x<0 else 'Berilgan son nolga teng'"
   ]
  },
  {
   "cell_type": "code",
   "execution_count": 16,
   "id": "9000db7c",
   "metadata": {},
   "outputs": [
    {
     "data": {
      "text/plain": [
       "'Berilgan son juft son'"
      ]
     },
     "execution_count": 16,
     "metadata": {},
     "output_type": "execute_result"
    }
   ],
   "source": [
    "a=int(input('a sonni kiriting'))\n",
    "'Berilgan son juft son' if a%2==0 else 'Berilgan son toq son'"
   ]
  },
  {
   "cell_type": "markdown",
   "id": "44350771",
   "metadata": {},
   "source": [
    "# 4-dars uchun vazifa"
   ]
  },
  {
   "cell_type": "code",
   "execution_count": null,
   "id": "4f6a0805",
   "metadata": {},
   "outputs": [],
   "source": [
    "# Istalgan son berilganda uni musbat yoki manfiyligini aniqlovchi dastur tuzing\n",
    "x=int(input('Sonni kiriting:'))\n",
    "'Berilgan son musbat' if x>0 else 'Berilgan son manfiy' if x<0 else 'Berilgan son nolga teng'# Ternary condition usuli orqali\n",
    "# yoki quyidagicha if/else bilan ham ishlash mumkin\n",
    "# x=int(input('Sonni kiriting:'))\n",
    "# if x>0:\n",
    "    # print('Berilgan son musbat')\n",
    "# elif x<0:\n",
    "    # print('Berilgan son manfiy')\n",
    "# else:\n",
    "    # print('Berilgan son nolga teng') # manfiy 25 kiritildi"
   ]
  },
  {
   "cell_type": "code",
   "execution_count": null,
   "id": "b050ef3a",
   "metadata": {},
   "outputs": [
    {
     "name": "stdout",
     "output_type": "stream",
     "text": [
      "Berilgan son 5 ga bo'linmaydi\n"
     ]
    }
   ],
   "source": [
    "# Istalgan son berilganda uni 5 ga bo'linishini aniqlovchi dastur tuzing\n",
    "a=int(input('Sonni kiriting'))\n",
    "if a%5==0:\n",
    "    print(\"Kiritilgan son 5 ga bo'linadi\")\n",
    "else:\n",
    "    print(\"Berilgan son 5 ga bo'linmaydi\")\n"
   ]
  },
  {
   "cell_type": "code",
   "execution_count": 8,
   "id": "ade606e0",
   "metadata": {},
   "outputs": [
    {
     "name": "stdout",
     "output_type": "stream",
     "text": [
      "undosh\n"
     ]
    }
   ],
   "source": [
    "# Agar berilgan so'zning dastlabki xarfi unli bo'lsa unli harf degan xabarni chiqaring aks xolda undosh harf degan xabarni chiqaring\n",
    "s=str(input(\"So'zni kiriting\"))\n",
    "if s[0]=='a' or s[0]=='e' or s[0]=='i' or s[0]=='o' or s[0]=='u' or  s[0]==\"o'\":\n",
    "    print('Unli harf')\n",
    "else:\n",
    "    print('undosh')"
   ]
  },
  {
   "cell_type": "code",
   "execution_count": null,
   "id": "59c3572b",
   "metadata": {},
   "outputs": [],
   "source": [
    "df=pd.read_csv('climate_disease_dataset.csv') # datasetimizni o'ng tomonga olish"
   ]
  },
  {
   "cell_type": "code",
   "execution_count": null,
   "id": "e135377e",
   "metadata": {},
   "outputs": [
    {
     "name": "stdout",
     "output_type": "stream",
     "text": [
      "<class 'pandas.core.frame.DataFrame'>\n",
      "RangeIndex: 34560 entries, 0 to 34559\n",
      "Data columns (total 12 columns):\n",
      " #   Column              Non-Null Count  Dtype  \n",
      "---  ------              --------------  -----  \n",
      " 0   year                34560 non-null  int64  \n",
      " 1   month               34560 non-null  int64  \n",
      " 2   country             34560 non-null  object \n",
      " 3   region              34560 non-null  object \n",
      " 4   avg_temp_c          34560 non-null  float64\n",
      " 5   precipitation_mm    34560 non-null  float64\n",
      " 6   air_quality_index   34560 non-null  float64\n",
      " 7   uv_index            34560 non-null  float64\n",
      " 8   malaria_cases       34560 non-null  int64  \n",
      " 9   dengue_cases        34560 non-null  int64  \n",
      " 10  population_density  34560 non-null  int64  \n",
      " 11  healthcare_budget   34560 non-null  int64  \n",
      "dtypes: float64(4), int64(6), object(2)\n",
      "memory usage: 3.2+ MB\n"
     ]
    }
   ],
   "source": [
    "df.info() # dataset haqida umumiy ma'lumot"
   ]
  },
  {
   "cell_type": "code",
   "execution_count": null,
   "id": "8b69069f",
   "metadata": {},
   "outputs": [
    {
     "data": {
      "text/html": [
       "<div>\n",
       "<style scoped>\n",
       "    .dataframe tbody tr th:only-of-type {\n",
       "        vertical-align: middle;\n",
       "    }\n",
       "\n",
       "    .dataframe tbody tr th {\n",
       "        vertical-align: top;\n",
       "    }\n",
       "\n",
       "    .dataframe thead th {\n",
       "        text-align: right;\n",
       "    }\n",
       "</style>\n",
       "<table border=\"1\" class=\"dataframe\">\n",
       "  <thead>\n",
       "    <tr style=\"text-align: right;\">\n",
       "      <th></th>\n",
       "      <th>year</th>\n",
       "      <th>month</th>\n",
       "      <th>country</th>\n",
       "      <th>region</th>\n",
       "      <th>avg_temp_c</th>\n",
       "      <th>precipitation_mm</th>\n",
       "      <th>air_quality_index</th>\n",
       "      <th>uv_index</th>\n",
       "      <th>malaria_cases</th>\n",
       "      <th>dengue_cases</th>\n",
       "      <th>population_density</th>\n",
       "      <th>healthcare_budget</th>\n",
       "    </tr>\n",
       "  </thead>\n",
       "  <tbody>\n",
       "    <tr>\n",
       "      <th>0</th>\n",
       "      <td>2000</td>\n",
       "      <td>1</td>\n",
       "      <td>Palestinian Territory</td>\n",
       "      <td>Central</td>\n",
       "      <td>28.132468</td>\n",
       "      <td>152.083870</td>\n",
       "      <td>110.487231</td>\n",
       "      <td>12.000000</td>\n",
       "      <td>53</td>\n",
       "      <td>145</td>\n",
       "      <td>113</td>\n",
       "      <td>1068</td>\n",
       "    </tr>\n",
       "    <tr>\n",
       "      <th>1</th>\n",
       "      <td>2000</td>\n",
       "      <td>2</td>\n",
       "      <td>Palestinian Territory</td>\n",
       "      <td>Central</td>\n",
       "      <td>30.886500</td>\n",
       "      <td>119.591418</td>\n",
       "      <td>83.467928</td>\n",
       "      <td>12.000000</td>\n",
       "      <td>132</td>\n",
       "      <td>48</td>\n",
       "      <td>113</td>\n",
       "      <td>1068</td>\n",
       "    </tr>\n",
       "    <tr>\n",
       "      <th>2</th>\n",
       "      <td>2000</td>\n",
       "      <td>3</td>\n",
       "      <td>Palestinian Territory</td>\n",
       "      <td>Central</td>\n",
       "      <td>31.366433</td>\n",
       "      <td>95.876124</td>\n",
       "      <td>93.095292</td>\n",
       "      <td>12.000000</td>\n",
       "      <td>34</td>\n",
       "      <td>80</td>\n",
       "      <td>113</td>\n",
       "      <td>1068</td>\n",
       "    </tr>\n",
       "    <tr>\n",
       "      <th>3</th>\n",
       "      <td>2000</td>\n",
       "      <td>4</td>\n",
       "      <td>Palestinian Territory</td>\n",
       "      <td>Central</td>\n",
       "      <td>28.481870</td>\n",
       "      <td>175.315731</td>\n",
       "      <td>105.530192</td>\n",
       "      <td>9.395894</td>\n",
       "      <td>23</td>\n",
       "      <td>133</td>\n",
       "      <td>113</td>\n",
       "      <td>1068</td>\n",
       "    </tr>\n",
       "    <tr>\n",
       "      <th>4</th>\n",
       "      <td>2000</td>\n",
       "      <td>5</td>\n",
       "      <td>Palestinian Territory</td>\n",
       "      <td>Central</td>\n",
       "      <td>26.890370</td>\n",
       "      <td>191.445990</td>\n",
       "      <td>60.205979</td>\n",
       "      <td>9.935726</td>\n",
       "      <td>39</td>\n",
       "      <td>74</td>\n",
       "      <td>113</td>\n",
       "      <td>1068</td>\n",
       "    </tr>\n",
       "    <tr>\n",
       "      <th>5</th>\n",
       "      <td>2000</td>\n",
       "      <td>6</td>\n",
       "      <td>Palestinian Territory</td>\n",
       "      <td>Central</td>\n",
       "      <td>21.390153</td>\n",
       "      <td>185.067126</td>\n",
       "      <td>97.271853</td>\n",
       "      <td>10.538685</td>\n",
       "      <td>106</td>\n",
       "      <td>54</td>\n",
       "      <td>113</td>\n",
       "      <td>1068</td>\n",
       "    </tr>\n",
       "    <tr>\n",
       "      <th>6</th>\n",
       "      <td>2000</td>\n",
       "      <td>7</td>\n",
       "      <td>Palestinian Territory</td>\n",
       "      <td>Central</td>\n",
       "      <td>16.795183</td>\n",
       "      <td>155.611863</td>\n",
       "      <td>102.815324</td>\n",
       "      <td>12.000000</td>\n",
       "      <td>42</td>\n",
       "      <td>93</td>\n",
       "      <td>113</td>\n",
       "      <td>1068</td>\n",
       "    </tr>\n",
       "    <tr>\n",
       "      <th>7</th>\n",
       "      <td>2000</td>\n",
       "      <td>8</td>\n",
       "      <td>Palestinian Territory</td>\n",
       "      <td>Central</td>\n",
       "      <td>13.049006</td>\n",
       "      <td>231.756604</td>\n",
       "      <td>102.124757</td>\n",
       "      <td>12.000000</td>\n",
       "      <td>100</td>\n",
       "      <td>88</td>\n",
       "      <td>113</td>\n",
       "      <td>1068</td>\n",
       "    </tr>\n",
       "    <tr>\n",
       "      <th>8</th>\n",
       "      <td>2000</td>\n",
       "      <td>9</td>\n",
       "      <td>Palestinian Territory</td>\n",
       "      <td>Central</td>\n",
       "      <td>16.924361</td>\n",
       "      <td>114.814328</td>\n",
       "      <td>91.631532</td>\n",
       "      <td>11.069241</td>\n",
       "      <td>56</td>\n",
       "      <td>52</td>\n",
       "      <td>113</td>\n",
       "      <td>1068</td>\n",
       "    </tr>\n",
       "    <tr>\n",
       "      <th>9</th>\n",
       "      <td>2000</td>\n",
       "      <td>10</td>\n",
       "      <td>Palestinian Territory</td>\n",
       "      <td>Central</td>\n",
       "      <td>15.933061</td>\n",
       "      <td>171.352306</td>\n",
       "      <td>103.922739</td>\n",
       "      <td>8.116281</td>\n",
       "      <td>78</td>\n",
       "      <td>120</td>\n",
       "      <td>113</td>\n",
       "      <td>1068</td>\n",
       "    </tr>\n",
       "  </tbody>\n",
       "</table>\n",
       "</div>"
      ],
      "text/plain": [
       "   year  month                country   region  avg_temp_c  precipitation_mm  \\\n",
       "0  2000      1  Palestinian Territory  Central   28.132468        152.083870   \n",
       "1  2000      2  Palestinian Territory  Central   30.886500        119.591418   \n",
       "2  2000      3  Palestinian Territory  Central   31.366433         95.876124   \n",
       "3  2000      4  Palestinian Territory  Central   28.481870        175.315731   \n",
       "4  2000      5  Palestinian Territory  Central   26.890370        191.445990   \n",
       "5  2000      6  Palestinian Territory  Central   21.390153        185.067126   \n",
       "6  2000      7  Palestinian Territory  Central   16.795183        155.611863   \n",
       "7  2000      8  Palestinian Territory  Central   13.049006        231.756604   \n",
       "8  2000      9  Palestinian Territory  Central   16.924361        114.814328   \n",
       "9  2000     10  Palestinian Territory  Central   15.933061        171.352306   \n",
       "\n",
       "   air_quality_index   uv_index  malaria_cases  dengue_cases  \\\n",
       "0         110.487231  12.000000             53           145   \n",
       "1          83.467928  12.000000            132            48   \n",
       "2          93.095292  12.000000             34            80   \n",
       "3         105.530192   9.395894             23           133   \n",
       "4          60.205979   9.935726             39            74   \n",
       "5          97.271853  10.538685            106            54   \n",
       "6         102.815324  12.000000             42            93   \n",
       "7         102.124757  12.000000            100            88   \n",
       "8          91.631532  11.069241             56            52   \n",
       "9         103.922739   8.116281             78           120   \n",
       "\n",
       "   population_density  healthcare_budget  \n",
       "0                 113               1068  \n",
       "1                 113               1068  \n",
       "2                 113               1068  \n",
       "3                 113               1068  \n",
       "4                 113               1068  \n",
       "5                 113               1068  \n",
       "6                 113               1068  \n",
       "7                 113               1068  \n",
       "8                 113               1068  \n",
       "9                 113               1068  "
      ]
     },
     "execution_count": 13,
     "metadata": {},
     "output_type": "execute_result"
    }
   ],
   "source": [
    "df.head(10)# datasetning boshidan 10 ta qatorni ko'rish"
   ]
  },
  {
   "cell_type": "code",
   "execution_count": null,
   "id": "1e468fe5",
   "metadata": {},
   "outputs": [
    {
     "data": {
      "text/html": [
       "<div>\n",
       "<style scoped>\n",
       "    .dataframe tbody tr th:only-of-type {\n",
       "        vertical-align: middle;\n",
       "    }\n",
       "\n",
       "    .dataframe tbody tr th {\n",
       "        vertical-align: top;\n",
       "    }\n",
       "\n",
       "    .dataframe thead th {\n",
       "        text-align: right;\n",
       "    }\n",
       "</style>\n",
       "<table border=\"1\" class=\"dataframe\">\n",
       "  <thead>\n",
       "    <tr style=\"text-align: right;\">\n",
       "      <th></th>\n",
       "      <th>year</th>\n",
       "      <th>month</th>\n",
       "      <th>country</th>\n",
       "      <th>region</th>\n",
       "      <th>avg_temp_c</th>\n",
       "      <th>precipitation_mm</th>\n",
       "      <th>air_quality_index</th>\n",
       "      <th>uv_index</th>\n",
       "      <th>malaria_cases</th>\n",
       "      <th>dengue_cases</th>\n",
       "      <th>population_density</th>\n",
       "      <th>healthcare_budget</th>\n",
       "    </tr>\n",
       "  </thead>\n",
       "  <tbody>\n",
       "    <tr>\n",
       "      <th>34555</th>\n",
       "      <td>2023</td>\n",
       "      <td>8</td>\n",
       "      <td>Philippines</td>\n",
       "      <td>East</td>\n",
       "      <td>13.040751</td>\n",
       "      <td>369.269763</td>\n",
       "      <td>70.218442</td>\n",
       "      <td>12.000000</td>\n",
       "      <td>149</td>\n",
       "      <td>36</td>\n",
       "      <td>52</td>\n",
       "      <td>399</td>\n",
       "    </tr>\n",
       "    <tr>\n",
       "      <th>34556</th>\n",
       "      <td>2023</td>\n",
       "      <td>9</td>\n",
       "      <td>Philippines</td>\n",
       "      <td>East</td>\n",
       "      <td>9.811456</td>\n",
       "      <td>271.028130</td>\n",
       "      <td>74.749481</td>\n",
       "      <td>8.432640</td>\n",
       "      <td>56</td>\n",
       "      <td>47</td>\n",
       "      <td>52</td>\n",
       "      <td>399</td>\n",
       "    </tr>\n",
       "    <tr>\n",
       "      <th>34557</th>\n",
       "      <td>2023</td>\n",
       "      <td>10</td>\n",
       "      <td>Philippines</td>\n",
       "      <td>East</td>\n",
       "      <td>12.308443</td>\n",
       "      <td>228.392496</td>\n",
       "      <td>91.096407</td>\n",
       "      <td>8.034754</td>\n",
       "      <td>104</td>\n",
       "      <td>22</td>\n",
       "      <td>52</td>\n",
       "      <td>399</td>\n",
       "    </tr>\n",
       "    <tr>\n",
       "      <th>34558</th>\n",
       "      <td>2023</td>\n",
       "      <td>11</td>\n",
       "      <td>Philippines</td>\n",
       "      <td>East</td>\n",
       "      <td>20.197689</td>\n",
       "      <td>196.673067</td>\n",
       "      <td>128.859240</td>\n",
       "      <td>12.000000</td>\n",
       "      <td>142</td>\n",
       "      <td>66</td>\n",
       "      <td>52</td>\n",
       "      <td>399</td>\n",
       "    </tr>\n",
       "    <tr>\n",
       "      <th>34559</th>\n",
       "      <td>2023</td>\n",
       "      <td>12</td>\n",
       "      <td>Philippines</td>\n",
       "      <td>East</td>\n",
       "      <td>21.095164</td>\n",
       "      <td>255.248416</td>\n",
       "      <td>58.031208</td>\n",
       "      <td>11.046620</td>\n",
       "      <td>152</td>\n",
       "      <td>104</td>\n",
       "      <td>52</td>\n",
       "      <td>399</td>\n",
       "    </tr>\n",
       "  </tbody>\n",
       "</table>\n",
       "</div>"
      ],
      "text/plain": [
       "       year  month      country region  avg_temp_c  precipitation_mm  \\\n",
       "34555  2023      8  Philippines   East   13.040751        369.269763   \n",
       "34556  2023      9  Philippines   East    9.811456        271.028130   \n",
       "34557  2023     10  Philippines   East   12.308443        228.392496   \n",
       "34558  2023     11  Philippines   East   20.197689        196.673067   \n",
       "34559  2023     12  Philippines   East   21.095164        255.248416   \n",
       "\n",
       "       air_quality_index   uv_index  malaria_cases  dengue_cases  \\\n",
       "34555          70.218442  12.000000            149            36   \n",
       "34556          74.749481   8.432640             56            47   \n",
       "34557          91.096407   8.034754            104            22   \n",
       "34558         128.859240  12.000000            142            66   \n",
       "34559          58.031208  11.046620            152           104   \n",
       "\n",
       "       population_density  healthcare_budget  \n",
       "34555                  52                399  \n",
       "34556                  52                399  \n",
       "34557                  52                399  \n",
       "34558                  52                399  \n",
       "34559                  52                399  "
      ]
     },
     "execution_count": 14,
     "metadata": {},
     "output_type": "execute_result"
    }
   ],
   "source": [
    "df.tail() #oxiridan 5 tasini ko'rish"
   ]
  },
  {
   "cell_type": "code",
   "execution_count": null,
   "id": "d20e59ec",
   "metadata": {},
   "outputs": [
    {
     "data": {
      "text/html": [
       "<div>\n",
       "<style scoped>\n",
       "    .dataframe tbody tr th:only-of-type {\n",
       "        vertical-align: middle;\n",
       "    }\n",
       "\n",
       "    .dataframe tbody tr th {\n",
       "        vertical-align: top;\n",
       "    }\n",
       "\n",
       "    .dataframe thead th {\n",
       "        text-align: right;\n",
       "    }\n",
       "</style>\n",
       "<table border=\"1\" class=\"dataframe\">\n",
       "  <thead>\n",
       "    <tr style=\"text-align: right;\">\n",
       "      <th></th>\n",
       "      <th>year</th>\n",
       "      <th>month</th>\n",
       "      <th>avg_temp_c</th>\n",
       "      <th>precipitation_mm</th>\n",
       "      <th>air_quality_index</th>\n",
       "      <th>uv_index</th>\n",
       "      <th>malaria_cases</th>\n",
       "      <th>dengue_cases</th>\n",
       "      <th>population_density</th>\n",
       "      <th>healthcare_budget</th>\n",
       "    </tr>\n",
       "  </thead>\n",
       "  <tbody>\n",
       "    <tr>\n",
       "      <th>count</th>\n",
       "      <td>34560.000000</td>\n",
       "      <td>34560.000000</td>\n",
       "      <td>34560.000000</td>\n",
       "      <td>34560.000000</td>\n",
       "      <td>34560.000000</td>\n",
       "      <td>34560.000000</td>\n",
       "      <td>34560.000000</td>\n",
       "      <td>34560.000000</td>\n",
       "      <td>34560.000000</td>\n",
       "      <td>34560.000000</td>\n",
       "    </tr>\n",
       "    <tr>\n",
       "      <th>mean</th>\n",
       "      <td>2011.500000</td>\n",
       "      <td>6.500000</td>\n",
       "      <td>20.395234</td>\n",
       "      <td>192.667977</td>\n",
       "      <td>43.787766</td>\n",
       "      <td>10.210855</td>\n",
       "      <td>70.519560</td>\n",
       "      <td>75.941464</td>\n",
       "      <td>266.900000</td>\n",
       "      <td>2764.650000</td>\n",
       "    </tr>\n",
       "    <tr>\n",
       "      <th>std</th>\n",
       "      <td>6.922287</td>\n",
       "      <td>3.452102</td>\n",
       "      <td>8.410940</td>\n",
       "      <td>90.503990</td>\n",
       "      <td>33.079697</td>\n",
       "      <td>1.936540</td>\n",
       "      <td>46.130774</td>\n",
       "      <td>37.323807</td>\n",
       "      <td>136.001073</td>\n",
       "      <td>1418.119148</td>\n",
       "    </tr>\n",
       "    <tr>\n",
       "      <th>min</th>\n",
       "      <td>2000.000000</td>\n",
       "      <td>1.000000</td>\n",
       "      <td>-2.557056</td>\n",
       "      <td>0.000000</td>\n",
       "      <td>0.000000</td>\n",
       "      <td>0.870704</td>\n",
       "      <td>0.000000</td>\n",
       "      <td>0.000000</td>\n",
       "      <td>50.000000</td>\n",
       "      <td>205.000000</td>\n",
       "    </tr>\n",
       "    <tr>\n",
       "      <th>25%</th>\n",
       "      <td>2005.750000</td>\n",
       "      <td>3.750000</td>\n",
       "      <td>14.404089</td>\n",
       "      <td>124.641424</td>\n",
       "      <td>15.322767</td>\n",
       "      <td>8.921094</td>\n",
       "      <td>32.000000</td>\n",
       "      <td>48.000000</td>\n",
       "      <td>136.250000</td>\n",
       "      <td>1435.500000</td>\n",
       "    </tr>\n",
       "    <tr>\n",
       "      <th>50%</th>\n",
       "      <td>2011.500000</td>\n",
       "      <td>6.500000</td>\n",
       "      <td>20.351749</td>\n",
       "      <td>195.315309</td>\n",
       "      <td>40.685931</td>\n",
       "      <td>10.760990</td>\n",
       "      <td>69.000000</td>\n",
       "      <td>76.000000</td>\n",
       "      <td>277.500000</td>\n",
       "      <td>2859.000000</td>\n",
       "    </tr>\n",
       "    <tr>\n",
       "      <th>75%</th>\n",
       "      <td>2017.250000</td>\n",
       "      <td>9.250000</td>\n",
       "      <td>26.342978</td>\n",
       "      <td>260.147603</td>\n",
       "      <td>68.402041</td>\n",
       "      <td>12.000000</td>\n",
       "      <td>107.000000</td>\n",
       "      <td>104.000000</td>\n",
       "      <td>384.750000</td>\n",
       "      <td>3996.750000</td>\n",
       "    </tr>\n",
       "    <tr>\n",
       "      <th>max</th>\n",
       "      <td>2023.000000</td>\n",
       "      <td>12.000000</td>\n",
       "      <td>44.583564</td>\n",
       "      <td>485.704079</td>\n",
       "      <td>168.847690</td>\n",
       "      <td>12.000000</td>\n",
       "      <td>201.000000</td>\n",
       "      <td>181.000000</td>\n",
       "      <td>498.000000</td>\n",
       "      <td>4969.000000</td>\n",
       "    </tr>\n",
       "  </tbody>\n",
       "</table>\n",
       "</div>"
      ],
      "text/plain": [
       "               year         month    avg_temp_c  precipitation_mm  \\\n",
       "count  34560.000000  34560.000000  34560.000000      34560.000000   \n",
       "mean    2011.500000      6.500000     20.395234        192.667977   \n",
       "std        6.922287      3.452102      8.410940         90.503990   \n",
       "min     2000.000000      1.000000     -2.557056          0.000000   \n",
       "25%     2005.750000      3.750000     14.404089        124.641424   \n",
       "50%     2011.500000      6.500000     20.351749        195.315309   \n",
       "75%     2017.250000      9.250000     26.342978        260.147603   \n",
       "max     2023.000000     12.000000     44.583564        485.704079   \n",
       "\n",
       "       air_quality_index      uv_index  malaria_cases  dengue_cases  \\\n",
       "count       34560.000000  34560.000000   34560.000000  34560.000000   \n",
       "mean           43.787766     10.210855      70.519560     75.941464   \n",
       "std            33.079697      1.936540      46.130774     37.323807   \n",
       "min             0.000000      0.870704       0.000000      0.000000   \n",
       "25%            15.322767      8.921094      32.000000     48.000000   \n",
       "50%            40.685931     10.760990      69.000000     76.000000   \n",
       "75%            68.402041     12.000000     107.000000    104.000000   \n",
       "max           168.847690     12.000000     201.000000    181.000000   \n",
       "\n",
       "       population_density  healthcare_budget  \n",
       "count        34560.000000       34560.000000  \n",
       "mean           266.900000        2764.650000  \n",
       "std            136.001073        1418.119148  \n",
       "min             50.000000         205.000000  \n",
       "25%            136.250000        1435.500000  \n",
       "50%            277.500000        2859.000000  \n",
       "75%            384.750000        3996.750000  \n",
       "max            498.000000        4969.000000  "
      ]
     },
     "execution_count": 15,
     "metadata": {},
     "output_type": "execute_result"
    }
   ],
   "source": [
    "df.describe() # umumiy ma'lumot olish uchun"
   ]
  },
  {
   "cell_type": "code",
   "execution_count": null,
   "id": "18bd1b6e",
   "metadata": {},
   "outputs": [
    {
     "data": {
      "text/plain": [
       "year                  0\n",
       "month                 0\n",
       "country               0\n",
       "region                0\n",
       "avg_temp_c            0\n",
       "precipitation_mm      0\n",
       "air_quality_index     0\n",
       "uv_index              0\n",
       "malaria_cases         0\n",
       "dengue_cases          0\n",
       "population_density    0\n",
       "healthcare_budget     0\n",
       "dtype: int64"
      ]
     },
     "execution_count": 16,
     "metadata": {},
     "output_type": "execute_result"
    }
   ],
   "source": [
    "df.isnull().sum() # tushirib qoldirilgan qiymatlarni tekshirish uchun"
   ]
  },
  {
   "cell_type": "code",
   "execution_count": 17,
   "id": "b01c4a5e",
   "metadata": {},
   "outputs": [
    {
     "data": {
      "text/plain": [
       "0        110.487231\n",
       "1         83.467928\n",
       "2         93.095292\n",
       "3        105.530192\n",
       "4         60.205979\n",
       "            ...    \n",
       "34555     70.218442\n",
       "34556     74.749481\n",
       "34557     91.096407\n",
       "34558    128.859240\n",
       "34559     58.031208\n",
       "Name: air_quality_index, Length: 34560, dtype: float64"
      ]
     },
     "execution_count": 17,
     "metadata": {},
     "output_type": "execute_result"
    }
   ],
   "source": [
    "df['air_quality_index']"
   ]
  },
  {
   "cell_type": "code",
   "execution_count": 18,
   "id": "661708f7",
   "metadata": {},
   "outputs": [
    {
     "data": {
      "text/plain": [
       "country\n",
       "Palestinian Territory                           288\n",
       "Macao                                           288\n",
       "Antarctica (the territory South of 60 deg S)    288\n",
       "Slovenia                                        288\n",
       "Saint Helena                                    288\n",
       "                                               ... \n",
       "Liechtenstein                                   288\n",
       "Myanmar                                         288\n",
       "Syrian Arab Republic                            288\n",
       "Chile                                           288\n",
       "Philippines                                     288\n",
       "Name: count, Length: 120, dtype: int64"
      ]
     },
     "execution_count": 18,
     "metadata": {},
     "output_type": "execute_result"
    }
   ],
   "source": [
    "df['country'].value_counts()"
   ]
  },
  {
   "cell_type": "code",
   "execution_count": 19,
   "id": "2bb412cc",
   "metadata": {},
   "outputs": [
    {
     "data": {
      "text/plain": [
       "0        Palestinian Territory\n",
       "1        Palestinian Territory\n",
       "2        Palestinian Territory\n",
       "3        Palestinian Territory\n",
       "4        Palestinian Territory\n",
       "                 ...          \n",
       "34555              Philippines\n",
       "34556              Philippines\n",
       "34557              Philippines\n",
       "34558              Philippines\n",
       "34559              Philippines\n",
       "Name: country, Length: 34560, dtype: object"
      ]
     },
     "execution_count": 19,
     "metadata": {},
     "output_type": "execute_result"
    }
   ],
   "source": [
    "df['country'] # country qiymatini ichida nimalar borligini ko'rish"
   ]
  },
  {
   "cell_type": "code",
   "execution_count": null,
   "id": "d2707dcd",
   "metadata": {},
   "outputs": [],
   "source": []
  }
 ],
 "metadata": {
  "kernelspec": {
   "display_name": "Python 3",
   "language": "python",
   "name": "python3"
  },
  "language_info": {
   "codemirror_mode": {
    "name": "ipython",
    "version": 3
   },
   "file_extension": ".py",
   "mimetype": "text/x-python",
   "name": "python",
   "nbconvert_exporter": "python",
   "pygments_lexer": "ipython3",
   "version": "3.11.2"
  }
 },
 "nbformat": 4,
 "nbformat_minor": 5
}
