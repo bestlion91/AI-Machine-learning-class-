{
 "cells": [
  {
   "cell_type": "markdown",
   "id": "5bf75696",
   "metadata": {},
   "source": [
    "# Data preprocessing 1-qism"
   ]
  },
  {
   "cell_type": "code",
   "execution_count": null,
   "id": "3e47944b",
   "metadata": {},
   "outputs": [],
   "source": [
    "# missing valuelar bilan ishlash"
   ]
  },
  {
   "cell_type": "code",
   "execution_count": null,
   "id": "77e2f804",
   "metadata": {},
   "outputs": [],
   "source": [
    "import pandas as pd #pandas kutubxonasini o'rnatib olish uchun kod "
   ]
  },
  {
   "cell_type": "code",
   "execution_count": null,
   "id": "c3901154",
   "metadata": {},
   "outputs": [],
   "source": [
    "df=pd.read_csv('IMDB_Movies_Dataset.csv') #datasetimizni o'ng tomonga olib olish uchun ishlatiladigan kod hiosblanadi"
   ]
  },
  {
   "cell_type": "code",
   "execution_count": null,
   "id": "5e91d343",
   "metadata": {},
   "outputs": [
    {
     "name": "stdout",
     "output_type": "stream",
     "text": [
      "<class 'pandas.core.frame.DataFrame'>\n",
      "RangeIndex: 4989 entries, 0 to 4988\n",
      "Data columns (total 13 columns):\n",
      " #   Column             Non-Null Count  Dtype  \n",
      "---  ------             --------------  -----  \n",
      " 0   Unnamed: 0         4989 non-null   int64  \n",
      " 1   Title              4989 non-null   object \n",
      " 2   Average Rating     4989 non-null   float64\n",
      " 3   Director           4989 non-null   object \n",
      " 4   Writer             4988 non-null   object \n",
      " 5   Metascore          3055 non-null   float64\n",
      " 6   Cast               4982 non-null   object \n",
      " 7   Release Date       4989 non-null   object \n",
      " 8   Country of Origin  4986 non-null   object \n",
      " 9   Languages          4968 non-null   object \n",
      " 10  Budget             2651 non-null   object \n",
      " 11  Worldwide Gross    3895 non-null   object \n",
      " 12  Runtime            4989 non-null   object \n",
      "dtypes: float64(2), int64(1), object(10)\n",
      "memory usage: 506.8+ KB\n"
     ]
    }
   ],
   "source": [
    "df.info() # data haqida umumiy ma'lumotga ega bo'lish kodi"
   ]
  },
  {
   "cell_type": "code",
   "execution_count": 5,
   "id": "eec5db52",
   "metadata": {},
   "outputs": [
    {
     "data": {
      "text/plain": [
       "Unnamed: 0              0\n",
       "Title                   0\n",
       "Average Rating          0\n",
       "Director                0\n",
       "Writer                  1\n",
       "Metascore            1934\n",
       "Cast                    7\n",
       "Release Date            0\n",
       "Country of Origin       3\n",
       "Languages              21\n",
       "Budget               2338\n",
       "Worldwide Gross      1094\n",
       "Runtime                 0\n",
       "dtype: int64"
      ]
     },
     "execution_count": 5,
     "metadata": {},
     "output_type": "execute_result"
    }
   ],
   "source": [
    "df.isnull().sum() # tushib qoldirilgan qiymatlarni aniqlash"
   ]
  },
  {
   "cell_type": "code",
   "execution_count": null,
   "id": "e4b28736",
   "metadata": {},
   "outputs": [
    {
     "data": {
      "text/html": [
       "<div>\n",
       "<style scoped>\n",
       "    .dataframe tbody tr th:only-of-type {\n",
       "        vertical-align: middle;\n",
       "    }\n",
       "\n",
       "    .dataframe tbody tr th {\n",
       "        vertical-align: top;\n",
       "    }\n",
       "\n",
       "    .dataframe thead th {\n",
       "        text-align: right;\n",
       "    }\n",
       "</style>\n",
       "<table border=\"1\" class=\"dataframe\">\n",
       "  <thead>\n",
       "    <tr style=\"text-align: right;\">\n",
       "      <th></th>\n",
       "      <th>Unnamed: 0</th>\n",
       "      <th>Title</th>\n",
       "      <th>Average Rating</th>\n",
       "      <th>Director</th>\n",
       "      <th>Writer</th>\n",
       "      <th>Metascore</th>\n",
       "      <th>Cast</th>\n",
       "      <th>Release Date</th>\n",
       "      <th>Country of Origin</th>\n",
       "      <th>Languages</th>\n",
       "      <th>Budget</th>\n",
       "      <th>Worldwide Gross</th>\n",
       "      <th>Runtime</th>\n",
       "    </tr>\n",
       "  </thead>\n",
       "  <tbody>\n",
       "    <tr>\n",
       "      <th>0</th>\n",
       "      <td>0</td>\n",
       "      <td>The Shawshank Redemption</td>\n",
       "      <td>9.3</td>\n",
       "      <td>Frank Darabont</td>\n",
       "      <td>Stephen King, Frank Darabont</td>\n",
       "      <td>82.0</td>\n",
       "      <td>Tim Robbins, Morgan Freeman, Bob Gunton, Willi...</td>\n",
       "      <td>October 14, 1994 (India)</td>\n",
       "      <td>United States</td>\n",
       "      <td>English</td>\n",
       "      <td>$25,000,000 (estimated)</td>\n",
       "      <td>$29,332,133</td>\n",
       "      <td>2 hours 22 minutes</td>\n",
       "    </tr>\n",
       "  </tbody>\n",
       "</table>\n",
       "</div>"
      ],
      "text/plain": [
       "   Unnamed: 0                     Title  Average Rating        Director  \\\n",
       "0           0  The Shawshank Redemption             9.3  Frank Darabont   \n",
       "\n",
       "                         Writer  Metascore  \\\n",
       "0  Stephen King, Frank Darabont       82.0   \n",
       "\n",
       "                                                Cast  \\\n",
       "0  Tim Robbins, Morgan Freeman, Bob Gunton, Willi...   \n",
       "\n",
       "               Release Date Country of Origin Languages  \\\n",
       "0  October 14, 1994 (India)     United States   English   \n",
       "\n",
       "                    Budget Worldwide Gross             Runtime  \n",
       "0  $25,000,000 (estimated)     $29,332,133  2 hours 22 minutes  "
      ]
     },
     "execution_count": 6,
     "metadata": {},
     "output_type": "execute_result"
    }
   ],
   "source": [
    "df.head(1) #datasetimiz boshidan 1 qatarini konsolga chiqartirish uchun ishlatiladigan kod "
   ]
  },
  {
   "cell_type": "code",
   "execution_count": 8,
   "id": "31d661b6",
   "metadata": {},
   "outputs": [
    {
     "data": {
      "text/plain": [
       "0                            Stephen King, Frank Darabont\n",
       "1           Natsuki Hanae, Yoshimasa Hosoya, Marina Inoue\n",
       "2                        Mario Puzo, Francis Ford Coppola\n",
       "3                                 Umur Bugay, Rifat Ilgaz\n",
       "4                        Rani Burra, Ram Mohan, Yûgô Sakô\n",
       "                              ...                        \n",
       "4984         Jorge Guerricaechevarría, Álex de la Iglesia\n",
       "4985                     Roy Chanslor, Arthur Conan Doyle\n",
       "4986                        Hiroshi Takahashi, Shôgo Mutô\n",
       "4987    Ruben Alves, Luc-Olivier Veuve, Jean-André Yerlès\n",
       "4988                                      Kwak Kyung-taek\n",
       "Name: Writer, Length: 4989, dtype: object"
      ]
     },
     "execution_count": 8,
     "metadata": {},
     "output_type": "execute_result"
    }
   ],
   "source": [
    "df['Writer']"
   ]
  },
  {
   "cell_type": "code",
   "execution_count": null,
   "id": "dc640b48",
   "metadata": {},
   "outputs": [],
   "source": [
    "df=df.dropna(subset='Writer', axis=0)# drop qilish kodi bo'lib faqat tushib qolgan qiymatlar ko'p bo'lmagan holatlardagina ishlata olamiz\n",
    "# df=df.drop('Writer', axis=1) bu ustunlar bo'yicha drop qilish mumkin, ustunlar bo'yicha drop qilish qiymatlarimizda tushib qolgan holatlar ko'p bo'lganda ishlatamiz"
   ]
  },
  {
   "cell_type": "code",
   "execution_count": 12,
   "id": "c8ba20bd",
   "metadata": {},
   "outputs": [
    {
     "data": {
      "text/plain": [
       "Unnamed: 0              0\n",
       "Title                   0\n",
       "Average Rating          0\n",
       "Director                0\n",
       "Writer                  0\n",
       "Metascore            1933\n",
       "Cast                    6\n",
       "Release Date            0\n",
       "Country of Origin       3\n",
       "Languages              21\n",
       "Budget               2337\n",
       "Worldwide Gross      1093\n",
       "Runtime                 0\n",
       "dtype: int64"
      ]
     },
     "execution_count": 12,
     "metadata": {},
     "output_type": "execute_result"
    }
   ],
   "source": [
    "df.isnull().sum()"
   ]
  },
  {
   "cell_type": "code",
   "execution_count": 13,
   "id": "14f746ca",
   "metadata": {},
   "outputs": [
    {
     "data": {
      "text/html": [
       "<div>\n",
       "<style scoped>\n",
       "    .dataframe tbody tr th:only-of-type {\n",
       "        vertical-align: middle;\n",
       "    }\n",
       "\n",
       "    .dataframe tbody tr th {\n",
       "        vertical-align: top;\n",
       "    }\n",
       "\n",
       "    .dataframe thead th {\n",
       "        text-align: right;\n",
       "    }\n",
       "</style>\n",
       "<table border=\"1\" class=\"dataframe\">\n",
       "  <thead>\n",
       "    <tr style=\"text-align: right;\">\n",
       "      <th></th>\n",
       "      <th>Unnamed: 0</th>\n",
       "      <th>Title</th>\n",
       "      <th>Average Rating</th>\n",
       "      <th>Director</th>\n",
       "      <th>Writer</th>\n",
       "      <th>Metascore</th>\n",
       "      <th>Cast</th>\n",
       "      <th>Release Date</th>\n",
       "      <th>Country of Origin</th>\n",
       "      <th>Languages</th>\n",
       "      <th>Budget</th>\n",
       "      <th>Worldwide Gross</th>\n",
       "      <th>Runtime</th>\n",
       "    </tr>\n",
       "  </thead>\n",
       "  <tbody>\n",
       "    <tr>\n",
       "      <th>0</th>\n",
       "      <td>0</td>\n",
       "      <td>The Shawshank Redemption</td>\n",
       "      <td>9.3</td>\n",
       "      <td>Frank Darabont</td>\n",
       "      <td>Stephen King, Frank Darabont</td>\n",
       "      <td>82.0</td>\n",
       "      <td>Tim Robbins, Morgan Freeman, Bob Gunton, Willi...</td>\n",
       "      <td>October 14, 1994 (India)</td>\n",
       "      <td>United States</td>\n",
       "      <td>English</td>\n",
       "      <td>$25,000,000 (estimated)</td>\n",
       "      <td>$29,332,133</td>\n",
       "      <td>2 hours 22 minutes</td>\n",
       "    </tr>\n",
       "    <tr>\n",
       "      <th>1</th>\n",
       "      <td>1</td>\n",
       "      <td>Attack on Titan the Movie: The Last Attack</td>\n",
       "      <td>9.3</td>\n",
       "      <td>Yûichirô Hayashi</td>\n",
       "      <td>Natsuki Hanae, Yoshimasa Hosoya, Marina Inoue</td>\n",
       "      <td>NaN</td>\n",
       "      <td>Natsuki Hanae, Yoshimasa Hosoya, Marina Inoue,...</td>\n",
       "      <td>November 8, 2024 (Japan)</td>\n",
       "      <td>Japan</td>\n",
       "      <td>Japanese</td>\n",
       "      <td>NaN</td>\n",
       "      <td>$3,513,659</td>\n",
       "      <td>2 hours 25 minutes</td>\n",
       "    </tr>\n",
       "    <tr>\n",
       "      <th>2</th>\n",
       "      <td>2</td>\n",
       "      <td>The Godfather</td>\n",
       "      <td>9.2</td>\n",
       "      <td>Francis Ford Coppola</td>\n",
       "      <td>Mario Puzo, Francis Ford Coppola</td>\n",
       "      <td>100.0</td>\n",
       "      <td>Marlon Brando, Al Pacino, James Caan, Diane Ke...</td>\n",
       "      <td>1978 (India)</td>\n",
       "      <td>United States</td>\n",
       "      <td>English, Italian, Latin</td>\n",
       "      <td>$6,000,000 (estimated)</td>\n",
       "      <td>$250,342,198</td>\n",
       "      <td>2 hours 55 minutes</td>\n",
       "    </tr>\n",
       "    <tr>\n",
       "      <th>3</th>\n",
       "      <td>3</td>\n",
       "      <td>Hababam Sinifi</td>\n",
       "      <td>9.2</td>\n",
       "      <td>Ertem Egilmez</td>\n",
       "      <td>Umur Bugay, Rifat Ilgaz</td>\n",
       "      <td>NaN</td>\n",
       "      <td>Münir Özkul, Tarik Akan, Halit Akçatepe, Kemal...</td>\n",
       "      <td>April 1, 1975 (Turkey)</td>\n",
       "      <td>Turkey</td>\n",
       "      <td>Turkish</td>\n",
       "      <td>NaN</td>\n",
       "      <td>NaN</td>\n",
       "      <td>1 hour 25 minutes</td>\n",
       "    </tr>\n",
       "    <tr>\n",
       "      <th>4</th>\n",
       "      <td>4</td>\n",
       "      <td>Ramayana: The Legend of Prince Rama</td>\n",
       "      <td>9.2</td>\n",
       "      <td>Ram Mohan, Yûgô Sakô, Koichi Saski</td>\n",
       "      <td>Rani Burra, Ram Mohan, Yûgô Sakô</td>\n",
       "      <td>NaN</td>\n",
       "      <td>Arun Govil, Nikhil Kapoor, Edie Mirman, Rael P...</td>\n",
       "      <td>September 25, 2001 (India)</td>\n",
       "      <td>India, Japan</td>\n",
       "      <td>English</td>\n",
       "      <td>NaN</td>\n",
       "      <td>NaN</td>\n",
       "      <td>2 hours 15 minutes</td>\n",
       "    </tr>\n",
       "  </tbody>\n",
       "</table>\n",
       "</div>"
      ],
      "text/plain": [
       "   Unnamed: 0                                       Title  Average Rating  \\\n",
       "0           0                    The Shawshank Redemption             9.3   \n",
       "1           1  Attack on Titan the Movie: The Last Attack             9.3   \n",
       "2           2                               The Godfather             9.2   \n",
       "3           3                              Hababam Sinifi             9.2   \n",
       "4           4         Ramayana: The Legend of Prince Rama             9.2   \n",
       "\n",
       "                             Director  \\\n",
       "0                      Frank Darabont   \n",
       "1                    Yûichirô Hayashi   \n",
       "2                Francis Ford Coppola   \n",
       "3                       Ertem Egilmez   \n",
       "4  Ram Mohan, Yûgô Sakô, Koichi Saski   \n",
       "\n",
       "                                          Writer  Metascore  \\\n",
       "0                   Stephen King, Frank Darabont       82.0   \n",
       "1  Natsuki Hanae, Yoshimasa Hosoya, Marina Inoue        NaN   \n",
       "2               Mario Puzo, Francis Ford Coppola      100.0   \n",
       "3                        Umur Bugay, Rifat Ilgaz        NaN   \n",
       "4               Rani Burra, Ram Mohan, Yûgô Sakô        NaN   \n",
       "\n",
       "                                                Cast  \\\n",
       "0  Tim Robbins, Morgan Freeman, Bob Gunton, Willi...   \n",
       "1  Natsuki Hanae, Yoshimasa Hosoya, Marina Inoue,...   \n",
       "2  Marlon Brando, Al Pacino, James Caan, Diane Ke...   \n",
       "3  Münir Özkul, Tarik Akan, Halit Akçatepe, Kemal...   \n",
       "4  Arun Govil, Nikhil Kapoor, Edie Mirman, Rael P...   \n",
       "\n",
       "                 Release Date Country of Origin                Languages  \\\n",
       "0    October 14, 1994 (India)     United States                  English   \n",
       "1    November 8, 2024 (Japan)             Japan                 Japanese   \n",
       "2                1978 (India)     United States  English, Italian, Latin   \n",
       "3      April 1, 1975 (Turkey)            Turkey                  Turkish   \n",
       "4  September 25, 2001 (India)      India, Japan                  English   \n",
       "\n",
       "                    Budget Worldwide Gross             Runtime  \n",
       "0  $25,000,000 (estimated)     $29,332,133  2 hours 22 minutes  \n",
       "1                      NaN      $3,513,659  2 hours 25 minutes  \n",
       "2   $6,000,000 (estimated)    $250,342,198  2 hours 55 minutes  \n",
       "3                      NaN             NaN   1 hour 25 minutes  \n",
       "4                      NaN             NaN  2 hours 15 minutes  "
      ]
     },
     "execution_count": 13,
     "metadata": {},
     "output_type": "execute_result"
    }
   ],
   "source": [
    "df.head()"
   ]
  },
  {
   "cell_type": "code",
   "execution_count": null,
   "id": "bc6c9f1d",
   "metadata": {},
   "outputs": [],
   "source": [
    "df=df.dropna(subset='Country of Origin', axis=0) # qatorlar bo'yicha drop qilish kodi"
   ]
  },
  {
   "cell_type": "code",
   "execution_count": 15,
   "id": "416c6e68",
   "metadata": {},
   "outputs": [
    {
     "data": {
      "text/plain": [
       "Unnamed: 0              0\n",
       "Title                   0\n",
       "Average Rating          0\n",
       "Director                0\n",
       "Writer                  0\n",
       "Metascore            1930\n",
       "Cast                    6\n",
       "Release Date            0\n",
       "Country of Origin       0\n",
       "Languages              18\n",
       "Budget               2334\n",
       "Worldwide Gross      1091\n",
       "Runtime                 0\n",
       "dtype: int64"
      ]
     },
     "execution_count": 15,
     "metadata": {},
     "output_type": "execute_result"
    }
   ],
   "source": [
    "df.isnull().sum()"
   ]
  },
  {
   "cell_type": "code",
   "execution_count": null,
   "id": "00868b0f",
   "metadata": {},
   "outputs": [],
   "source": [
    "df=df.drop('Budget', axis=1) #drop ustun bo'yicha qilganimizda dropna qilmasdan faqat \"drop\" qilamiz halos va yana \"subset\" ham bo'lmaydi"
   ]
  },
  {
   "cell_type": "code",
   "execution_count": 19,
   "id": "7b1f6960",
   "metadata": {},
   "outputs": [
    {
     "data": {
      "text/html": [
       "<div>\n",
       "<style scoped>\n",
       "    .dataframe tbody tr th:only-of-type {\n",
       "        vertical-align: middle;\n",
       "    }\n",
       "\n",
       "    .dataframe tbody tr th {\n",
       "        vertical-align: top;\n",
       "    }\n",
       "\n",
       "    .dataframe thead th {\n",
       "        text-align: right;\n",
       "    }\n",
       "</style>\n",
       "<table border=\"1\" class=\"dataframe\">\n",
       "  <thead>\n",
       "    <tr style=\"text-align: right;\">\n",
       "      <th></th>\n",
       "      <th>Unnamed: 0</th>\n",
       "      <th>Title</th>\n",
       "      <th>Average Rating</th>\n",
       "      <th>Director</th>\n",
       "      <th>Writer</th>\n",
       "      <th>Metascore</th>\n",
       "      <th>Cast</th>\n",
       "      <th>Release Date</th>\n",
       "      <th>Country of Origin</th>\n",
       "      <th>Languages</th>\n",
       "      <th>Worldwide Gross</th>\n",
       "      <th>Runtime</th>\n",
       "    </tr>\n",
       "  </thead>\n",
       "  <tbody>\n",
       "    <tr>\n",
       "      <th>0</th>\n",
       "      <td>0</td>\n",
       "      <td>The Shawshank Redemption</td>\n",
       "      <td>9.3</td>\n",
       "      <td>Frank Darabont</td>\n",
       "      <td>Stephen King, Frank Darabont</td>\n",
       "      <td>82.0</td>\n",
       "      <td>Tim Robbins, Morgan Freeman, Bob Gunton, Willi...</td>\n",
       "      <td>October 14, 1994 (India)</td>\n",
       "      <td>United States</td>\n",
       "      <td>English</td>\n",
       "      <td>$29,332,133</td>\n",
       "      <td>2 hours 22 minutes</td>\n",
       "    </tr>\n",
       "    <tr>\n",
       "      <th>1</th>\n",
       "      <td>1</td>\n",
       "      <td>Attack on Titan the Movie: The Last Attack</td>\n",
       "      <td>9.3</td>\n",
       "      <td>Yûichirô Hayashi</td>\n",
       "      <td>Natsuki Hanae, Yoshimasa Hosoya, Marina Inoue</td>\n",
       "      <td>NaN</td>\n",
       "      <td>Natsuki Hanae, Yoshimasa Hosoya, Marina Inoue,...</td>\n",
       "      <td>November 8, 2024 (Japan)</td>\n",
       "      <td>Japan</td>\n",
       "      <td>Japanese</td>\n",
       "      <td>$3,513,659</td>\n",
       "      <td>2 hours 25 minutes</td>\n",
       "    </tr>\n",
       "    <tr>\n",
       "      <th>2</th>\n",
       "      <td>2</td>\n",
       "      <td>The Godfather</td>\n",
       "      <td>9.2</td>\n",
       "      <td>Francis Ford Coppola</td>\n",
       "      <td>Mario Puzo, Francis Ford Coppola</td>\n",
       "      <td>100.0</td>\n",
       "      <td>Marlon Brando, Al Pacino, James Caan, Diane Ke...</td>\n",
       "      <td>1978 (India)</td>\n",
       "      <td>United States</td>\n",
       "      <td>English, Italian, Latin</td>\n",
       "      <td>$250,342,198</td>\n",
       "      <td>2 hours 55 minutes</td>\n",
       "    </tr>\n",
       "    <tr>\n",
       "      <th>3</th>\n",
       "      <td>3</td>\n",
       "      <td>Hababam Sinifi</td>\n",
       "      <td>9.2</td>\n",
       "      <td>Ertem Egilmez</td>\n",
       "      <td>Umur Bugay, Rifat Ilgaz</td>\n",
       "      <td>NaN</td>\n",
       "      <td>Münir Özkul, Tarik Akan, Halit Akçatepe, Kemal...</td>\n",
       "      <td>April 1, 1975 (Turkey)</td>\n",
       "      <td>Turkey</td>\n",
       "      <td>Turkish</td>\n",
       "      <td>NaN</td>\n",
       "      <td>1 hour 25 minutes</td>\n",
       "    </tr>\n",
       "    <tr>\n",
       "      <th>4</th>\n",
       "      <td>4</td>\n",
       "      <td>Ramayana: The Legend of Prince Rama</td>\n",
       "      <td>9.2</td>\n",
       "      <td>Ram Mohan, Yûgô Sakô, Koichi Saski</td>\n",
       "      <td>Rani Burra, Ram Mohan, Yûgô Sakô</td>\n",
       "      <td>NaN</td>\n",
       "      <td>Arun Govil, Nikhil Kapoor, Edie Mirman, Rael P...</td>\n",
       "      <td>September 25, 2001 (India)</td>\n",
       "      <td>India, Japan</td>\n",
       "      <td>English</td>\n",
       "      <td>NaN</td>\n",
       "      <td>2 hours 15 minutes</td>\n",
       "    </tr>\n",
       "  </tbody>\n",
       "</table>\n",
       "</div>"
      ],
      "text/plain": [
       "   Unnamed: 0                                       Title  Average Rating  \\\n",
       "0           0                    The Shawshank Redemption             9.3   \n",
       "1           1  Attack on Titan the Movie: The Last Attack             9.3   \n",
       "2           2                               The Godfather             9.2   \n",
       "3           3                              Hababam Sinifi             9.2   \n",
       "4           4         Ramayana: The Legend of Prince Rama             9.2   \n",
       "\n",
       "                             Director  \\\n",
       "0                      Frank Darabont   \n",
       "1                    Yûichirô Hayashi   \n",
       "2                Francis Ford Coppola   \n",
       "3                       Ertem Egilmez   \n",
       "4  Ram Mohan, Yûgô Sakô, Koichi Saski   \n",
       "\n",
       "                                          Writer  Metascore  \\\n",
       "0                   Stephen King, Frank Darabont       82.0   \n",
       "1  Natsuki Hanae, Yoshimasa Hosoya, Marina Inoue        NaN   \n",
       "2               Mario Puzo, Francis Ford Coppola      100.0   \n",
       "3                        Umur Bugay, Rifat Ilgaz        NaN   \n",
       "4               Rani Burra, Ram Mohan, Yûgô Sakô        NaN   \n",
       "\n",
       "                                                Cast  \\\n",
       "0  Tim Robbins, Morgan Freeman, Bob Gunton, Willi...   \n",
       "1  Natsuki Hanae, Yoshimasa Hosoya, Marina Inoue,...   \n",
       "2  Marlon Brando, Al Pacino, James Caan, Diane Ke...   \n",
       "3  Münir Özkul, Tarik Akan, Halit Akçatepe, Kemal...   \n",
       "4  Arun Govil, Nikhil Kapoor, Edie Mirman, Rael P...   \n",
       "\n",
       "                 Release Date Country of Origin                Languages  \\\n",
       "0    October 14, 1994 (India)     United States                  English   \n",
       "1    November 8, 2024 (Japan)             Japan                 Japanese   \n",
       "2                1978 (India)     United States  English, Italian, Latin   \n",
       "3      April 1, 1975 (Turkey)            Turkey                  Turkish   \n",
       "4  September 25, 2001 (India)      India, Japan                  English   \n",
       "\n",
       "  Worldwide Gross             Runtime  \n",
       "0     $29,332,133  2 hours 22 minutes  \n",
       "1      $3,513,659  2 hours 25 minutes  \n",
       "2    $250,342,198  2 hours 55 minutes  \n",
       "3             NaN   1 hour 25 minutes  \n",
       "4             NaN  2 hours 15 minutes  "
      ]
     },
     "execution_count": 19,
     "metadata": {},
     "output_type": "execute_result"
    }
   ],
   "source": [
    "df.head()"
   ]
  },
  {
   "cell_type": "code",
   "execution_count": 20,
   "id": "dea31522",
   "metadata": {},
   "outputs": [
    {
     "data": {
      "text/plain": [
       "Unnamed: 0              0\n",
       "Title                   0\n",
       "Average Rating          0\n",
       "Director                0\n",
       "Writer                  0\n",
       "Metascore            1930\n",
       "Cast                    6\n",
       "Release Date            0\n",
       "Country of Origin       0\n",
       "Languages              18\n",
       "Worldwide Gross      1091\n",
       "Runtime                 0\n",
       "dtype: int64"
      ]
     },
     "execution_count": 20,
     "metadata": {},
     "output_type": "execute_result"
    }
   ],
   "source": [
    "df.isnull().sum()"
   ]
  },
  {
   "cell_type": "code",
   "execution_count": 7,
   "id": "939f63f9",
   "metadata": {},
   "outputs": [
    {
     "name": "stdout",
     "output_type": "stream",
     "text": [
      "<class 'pandas.core.frame.DataFrame'>\n",
      "RangeIndex: 4989 entries, 0 to 4988\n",
      "Data columns (total 13 columns):\n",
      " #   Column             Non-Null Count  Dtype  \n",
      "---  ------             --------------  -----  \n",
      " 0   Unnamed: 0         4989 non-null   int64  \n",
      " 1   Title              4989 non-null   object \n",
      " 2   Average Rating     4989 non-null   float64\n",
      " 3   Director           4989 non-null   object \n",
      " 4   Writer             4988 non-null   object \n",
      " 5   Metascore          3055 non-null   float64\n",
      " 6   Cast               4982 non-null   object \n",
      " 7   Release Date       4989 non-null   object \n",
      " 8   Country of Origin  4986 non-null   object \n",
      " 9   Languages          4968 non-null   object \n",
      " 10  Budget             2651 non-null   object \n",
      " 11  Worldwide Gross    3895 non-null   object \n",
      " 12  Runtime            4989 non-null   object \n",
      "dtypes: float64(2), int64(1), object(10)\n",
      "memory usage: 506.8+ KB\n"
     ]
    }
   ],
   "source": [
    "df.info()"
   ]
  },
  {
   "cell_type": "code",
   "execution_count": 8,
   "id": "2bca8a16",
   "metadata": {},
   "outputs": [
    {
     "data": {
      "text/plain": [
       "Unnamed: 0              0\n",
       "Title                   0\n",
       "Average Rating          0\n",
       "Director                0\n",
       "Writer                  1\n",
       "Metascore            1934\n",
       "Cast                    7\n",
       "Release Date            0\n",
       "Country of Origin       3\n",
       "Languages              21\n",
       "Budget               2338\n",
       "Worldwide Gross      1094\n",
       "Runtime                 0\n",
       "dtype: int64"
      ]
     },
     "execution_count": 8,
     "metadata": {},
     "output_type": "execute_result"
    }
   ],
   "source": [
    "df.isnull().sum()"
   ]
  },
  {
   "cell_type": "markdown",
   "id": "22798f9e",
   "metadata": {},
   "source": [
    "# Mean bilan to'ldirish"
   ]
  },
  {
   "cell_type": "code",
   "execution_count": null,
   "id": "69914a92",
   "metadata": {},
   "outputs": [],
   "source": [
    "# Mean bilan to'dirish bu berilgan qiymatlar orasidagi tushib qolganni to'ldirish uchun berilgan qiymatlarni qo'shib umumiyga bo'lib qo'yamiz.(Raqamli qiymatlar bilan ishlaymiz)(Intr va float bo'lganda ishlata olamiz halos)"
   ]
  },
  {
   "cell_type": "code",
   "execution_count": 9,
   "id": "c656e422",
   "metadata": {},
   "outputs": [
    {
     "data": {
      "text/plain": [
       "Unnamed: 0              0\n",
       "Title                   0\n",
       "Average Rating          0\n",
       "Director                0\n",
       "Writer                  1\n",
       "Metascore            1934\n",
       "Cast                    7\n",
       "Release Date            0\n",
       "Country of Origin       3\n",
       "Languages              21\n",
       "Budget               2338\n",
       "Worldwide Gross      1094\n",
       "Runtime                 0\n",
       "dtype: int64"
      ]
     },
     "execution_count": 9,
     "metadata": {},
     "output_type": "execute_result"
    }
   ],
   "source": [
    "df.isnull().sum()"
   ]
  },
  {
   "cell_type": "code",
   "execution_count": 12,
   "id": "72c9df9b",
   "metadata": {},
   "outputs": [
    {
     "data": {
      "text/plain": [
       "0        82.000000\n",
       "1        74.684452\n",
       "2       100.000000\n",
       "3        74.684452\n",
       "4        74.684452\n",
       "           ...    \n",
       "4984     74.684452\n",
       "4985     74.684452\n",
       "4986     74.684452\n",
       "4987     74.684452\n",
       "4988     74.684452\n",
       "Name: Metascore, Length: 4989, dtype: float64"
      ]
     },
     "execution_count": 12,
     "metadata": {},
     "output_type": "execute_result"
    }
   ],
   "source": [
    "df['Metascore']"
   ]
  },
  {
   "cell_type": "code",
   "execution_count": null,
   "id": "b18a209b",
   "metadata": {},
   "outputs": [],
   "source": [
    "df['Metascore']=df['Metascore'].fillna(df['Metascore'].mean()) # Mean bilan to'dirishda ishlatiladigan kod bo'lib faqat raqamli qiymatlar bilangina ishlashimiz mumkin bo'ladi\n",
    "# df['Metascore'].fillna(df['Metascore'].mean(), inplace=True) # bu yuqoridagi kodimizga alternativ kod bo'lib"
   ]
  },
  {
   "cell_type": "code",
   "execution_count": null,
   "id": "847f8d3c",
   "metadata": {},
   "outputs": [
    {
     "data": {
      "text/plain": [
       "Unnamed: 0              0\n",
       "Title                   0\n",
       "Average Rating          0\n",
       "Director                0\n",
       "Writer                  1\n",
       "Metascore               0\n",
       "Cast                    7\n",
       "Release Date            0\n",
       "Country of Origin       3\n",
       "Languages              21\n",
       "Budget               2338\n",
       "Worldwide Gross      1094\n",
       "Runtime                 0\n",
       "dtype: int64"
      ]
     },
     "execution_count": 11,
     "metadata": {},
     "output_type": "execute_result"
    }
   ],
   "source": [
    "df.isnull().sum() #tushib qolgan qiymatlarni aniqlash kodi"
   ]
  },
  {
   "cell_type": "code",
   "execution_count": null,
   "id": "702b8de0",
   "metadata": {},
   "outputs": [
    {
     "data": {
      "text/plain": [
       "0        82.000000\n",
       "1        74.684452\n",
       "2       100.000000\n",
       "3        74.684452\n",
       "4        74.684452\n",
       "           ...    \n",
       "4984     74.684452\n",
       "4985     74.684452\n",
       "4986     74.684452\n",
       "4987     74.684452\n",
       "4988     74.684452\n",
       "Name: Metascore, Length: 4989, dtype: float64"
      ]
     },
     "execution_count": 13,
     "metadata": {},
     "output_type": "execute_result"
    }
   ],
   "source": [
    "df['Metascore'] # aynan bir qiymat haqida ma'lumot olish uchun"
   ]
  },
  {
   "cell_type": "markdown",
   "id": "d8b26a16",
   "metadata": {},
   "source": [
    "# Mode Bilan ishlash"
   ]
  },
  {
   "cell_type": "code",
   "execution_count": null,
   "id": "c9fffbfa",
   "metadata": {},
   "outputs": [],
   "source": [
    "# mode bu tushirilib qoldirilgan qiymatni eng kop takrorlangan qiymat bilan to'ldirib ketish usuli hioblanadi, bunda meandan farqli o'laroq raqamli va stringli qiymatlar bilan ham ishlatish munmkin"
   ]
  },
  {
   "cell_type": "code",
   "execution_count": null,
   "id": "e909e2de",
   "metadata": {},
   "outputs": [
    {
     "data": {
      "text/plain": [
       "Unnamed: 0              0\n",
       "Title                   0\n",
       "Average Rating          0\n",
       "Director                0\n",
       "Writer                  1\n",
       "Metascore               0\n",
       "Cast                    7\n",
       "Release Date            0\n",
       "Country of Origin       3\n",
       "Languages              21\n",
       "Budget               2338\n",
       "Worldwide Gross      1094\n",
       "Runtime                 0\n",
       "dtype: int64"
      ]
     },
     "execution_count": 14,
     "metadata": {},
     "output_type": "execute_result"
    }
   ],
   "source": [
    "df.isnull().sum() # bu kod DataFrame (df) ichidagi har bir ustunda nechta bo'sh qiymat (NaN / None) borligini hisoblab beradi. Ya'ni, qaysi ustunda nechta ma'lumot yetishmayapti — shuni ko'rsatadi."
   ]
  },
  {
   "cell_type": "code",
   "execution_count": null,
   "id": "fda33d60",
   "metadata": {},
   "outputs": [],
   "source": [
    "df['Cast'].fillna(df['Cast'].mode()[0],inplace=True) # Tushirib qoldirilgan qiymatlarni mode bilan to'ldirish kodi hisoblanadi\n",
    "#df['Cast'] - to'ldirish kerak bo'lgan ustun\n",
    "# fillna(df['Cast'] - to'dir va df['Cast'] ni ol va uni eng ko'p takrorlangan qiymat bilan to'dir\n",
    "# [0] - bu eng ko'p takrorlangan qiymat hisoblanadi\n",
    "# (inplace=False)  bu amal natijasini bevosita (to'g'ridan-to'g'ri) mavjud ma'lumotlarga qo‘llash degan ma'noni anglatadi. Ya'ni, inplace=True bo‘lsa:\n",
    "\n",
    "#                                    O‘zgarish asl DataFrame yoki Series ichida darhol bajariladi.\n",
    "\n",
    "#                                     Yangi nusxa (copy) yaratilmaydi.\n",
    "\n",
    "# Agar inplace=False (yoki inplace yozilmasa), u holda o‘zgarishlar yangi nusxada aks etadi va asl obyekt o‘zgarishsiz qoladi."
   ]
  },
  {
   "cell_type": "code",
   "execution_count": 17,
   "id": "948e467b",
   "metadata": {},
   "outputs": [
    {
     "data": {
      "text/plain": [
       "Unnamed: 0              0\n",
       "Title                   0\n",
       "Average Rating          0\n",
       "Director                0\n",
       "Writer                  1\n",
       "Metascore               0\n",
       "Cast                    0\n",
       "Release Date            0\n",
       "Country of Origin       3\n",
       "Languages              21\n",
       "Budget               2338\n",
       "Worldwide Gross      1094\n",
       "Runtime                 0\n",
       "dtype: int64"
      ]
     },
     "execution_count": 17,
     "metadata": {},
     "output_type": "execute_result"
    }
   ],
   "source": [
    "df.isnull().sum()"
   ]
  },
  {
   "cell_type": "markdown",
   "id": "dba631e7",
   "metadata": {},
   "source": [
    "# Median bilan ishlash"
   ]
  },
  {
   "cell_type": "code",
   "execution_count": null,
   "id": "83307979",
   "metadata": {},
   "outputs": [],
   "source": [
    "# Median — bu o'rtacha qiymat, ya'ni ma'lumotlar to‘plamidagi o‘rtadagi element.\n",
    "#                   Agar sonlar soni toq bo'lsa → o'rtadagi bitta son median bo'ladi.\n",
    "#                   Agar sonlar soni juft bo'lsa → o'rtadagi ikkita son olinadi va ularning o'rtacha arifmetik qiymati median bo'ladi.\n",
    "# toq sonli qiymatlar uchun:\n",
    "# Sonlar: 3, 7, 9\n",
    "# Tartiblash: 3, 7, 9\n",
    "# Median: 7 (o‘rtadagi son)\n",
    "\n",
    "# juft sonli qiymatlar uchun:\n",
    "# Sonlar: 2, 4, 6, 8\n",
    "# Tartiblash: 2, 4, 6, 8\n",
    "# Median: (4 + 6) / 2 = 5\n"
   ]
  },
  {
   "cell_type": "code",
   "execution_count": null,
   "id": "42073d5f",
   "metadata": {},
   "outputs": [
    {
     "data": {
      "text/html": [
       "<div>\n",
       "<style scoped>\n",
       "    .dataframe tbody tr th:only-of-type {\n",
       "        vertical-align: middle;\n",
       "    }\n",
       "\n",
       "    .dataframe tbody tr th {\n",
       "        vertical-align: top;\n",
       "    }\n",
       "\n",
       "    .dataframe thead th {\n",
       "        text-align: right;\n",
       "    }\n",
       "</style>\n",
       "<table border=\"1\" class=\"dataframe\">\n",
       "  <thead>\n",
       "    <tr style=\"text-align: right;\">\n",
       "      <th></th>\n",
       "      <th>Unnamed: 0</th>\n",
       "      <th>Average Rating</th>\n",
       "      <th>Metascore</th>\n",
       "    </tr>\n",
       "  </thead>\n",
       "  <tbody>\n",
       "    <tr>\n",
       "      <th>count</th>\n",
       "      <td>4989.000000</td>\n",
       "      <td>4989.000000</td>\n",
       "      <td>4989.000000</td>\n",
       "    </tr>\n",
       "    <tr>\n",
       "      <th>mean</th>\n",
       "      <td>248.951493</td>\n",
       "      <td>7.632892</td>\n",
       "      <td>74.684452</td>\n",
       "    </tr>\n",
       "    <tr>\n",
       "      <th>std</th>\n",
       "      <td>144.036753</td>\n",
       "      <td>0.365243</td>\n",
       "      <td>9.623608</td>\n",
       "    </tr>\n",
       "    <tr>\n",
       "      <th>min</th>\n",
       "      <td>0.000000</td>\n",
       "      <td>7.200000</td>\n",
       "      <td>25.000000</td>\n",
       "    </tr>\n",
       "    <tr>\n",
       "      <th>25%</th>\n",
       "      <td>124.000000</td>\n",
       "      <td>7.300000</td>\n",
       "      <td>73.000000</td>\n",
       "    </tr>\n",
       "    <tr>\n",
       "      <th>50%</th>\n",
       "      <td>249.000000</td>\n",
       "      <td>7.600000</td>\n",
       "      <td>74.684452</td>\n",
       "    </tr>\n",
       "    <tr>\n",
       "      <th>75%</th>\n",
       "      <td>374.000000</td>\n",
       "      <td>7.800000</td>\n",
       "      <td>78.000000</td>\n",
       "    </tr>\n",
       "    <tr>\n",
       "      <th>max</th>\n",
       "      <td>499.000000</td>\n",
       "      <td>9.300000</td>\n",
       "      <td>100.000000</td>\n",
       "    </tr>\n",
       "  </tbody>\n",
       "</table>\n",
       "</div>"
      ],
      "text/plain": [
       "        Unnamed: 0  Average Rating    Metascore\n",
       "count  4989.000000     4989.000000  4989.000000\n",
       "mean    248.951493        7.632892    74.684452\n",
       "std     144.036753        0.365243     9.623608\n",
       "min       0.000000        7.200000    25.000000\n",
       "25%     124.000000        7.300000    73.000000\n",
       "50%     249.000000        7.600000    74.684452\n",
       "75%     374.000000        7.800000    78.000000\n",
       "max     499.000000        9.300000   100.000000"
      ]
     },
     "execution_count": 27,
     "metadata": {},
     "output_type": "execute_result"
    }
   ],
   "source": [
    "df.describe() # Pandas kutubxonasida ishlatiladigan statistik xulosa (summary statistics) chiqaruvchi funksiyadir. \n",
    "# ma'lumotlaringizni umumiy ko'rib chiqish, taqqoslash, va anomaliyalarni aniqlash imkonini beradi.\n",
    "# ma'lumotlar to'plamidagi (dataframe ichidagi) sonli ustunlar uchun quyidagi asosiy statistik ma'lumotlarni beradi:\n",
    "# count\t4989.000000\t4989.000000\t4989.000000  Nechta qiymat borligi (missing qiymatlar hisobga olinmaydi)\n",
    "# mean\t248.951493\t7.632892\t74.684452    O'rtacha qiymat (average)\n",
    "# std\t144.036753\t0.365243\t9.623608     Standart og'ish (qiymatlarning tarqalishini o'lchaydi)\n",
    "# min\t0.000000\t7.200000\t25.000000    Eng kichik qiymat\n",
    "# 25%\t124.000000\t7.300000\t73.000000    1-kvartil (pastki 25% qiymat)\n",
    "# 50%\t249.000000\t7.600000\t74.684452    \tO'rtadagi qiymat (median)\n",
    "# 75%\t374.000000\t7.800000\t78.000000      \t3-kvartil (yuqori 25% qiymat)\n",
    "# max 499.000000\t9.300000\t100.000000      Eng katta qiymat"
   ]
  },
  {
   "cell_type": "code",
   "execution_count": null,
   "id": "f4298307",
   "metadata": {},
   "outputs": [
    {
     "data": {
      "text/plain": [
       "Country of Origin\n",
       "United States                                                        1624\n",
       "India                                                                 583\n",
       "Japan                                                                 206\n",
       "United Kingdom, United States                                         167\n",
       "United Kingdom                                                        164\n",
       "                                                                     ... \n",
       "Denmark, Germany, Norway, France, Sweden, Finland, Czech Republic       1\n",
       "Austria, United States                                                  1\n",
       "Estonia, Georgia                                                        1\n",
       "Switzerland, France                                                     1\n",
       "Spain, United Kingdom, Isle of Man                                      1\n",
       "Name: count, Length: 812, dtype: int64"
      ]
     },
     "execution_count": 25,
     "metadata": {},
     "output_type": "execute_result"
    }
   ],
   "source": [
    "df['Country of Origin'].value_counts() #bu kod DataFrame (df) ichidagi 'Country of Origin' ustunida har bir turli qiymat (ya'ni har bir mamlakat) nechta marta uchraganini hisoblab beradi."
   ]
  },
  {
   "cell_type": "code",
   "execution_count": null,
   "id": "0619b1f4",
   "metadata": {},
   "outputs": [
    {
     "data": {
      "text/plain": [
       "812"
      ]
     },
     "execution_count": 26,
     "metadata": {},
     "output_type": "execute_result"
    }
   ],
   "source": [
    "df['Country of Origin'].nunique() # bu kod 'Country of Origin' ustunidagi takrorlanmaydigan (noyob) qiymatlarning sonini hisoblaydi. Ya'ni, nechta turli mamlakat borligini topadi."
   ]
  },
  {
   "cell_type": "code",
   "execution_count": null,
   "id": "32dccdd9",
   "metadata": {},
   "outputs": [
    {
     "ename": "TypeError",
     "evalue": "Cannot convert ['United States' 'Japan' 'United States' ... 'Japan' 'France'\n 'South Korea'] to numeric",
     "output_type": "error",
     "traceback": [
      "\u001b[31m---------------------------------------------------------------------------\u001b[39m",
      "\u001b[31mTypeError\u001b[39m                                 Traceback (most recent call last)",
      "\u001b[36mCell\u001b[39m\u001b[36m \u001b[39m\u001b[32mIn[28]\u001b[39m\u001b[32m, line 1\u001b[39m\n\u001b[32m----> \u001b[39m\u001b[32m1\u001b[39m df[\u001b[33m'\u001b[39m\u001b[33mCountry of Origin\u001b[39m\u001b[33m'\u001b[39m].fillna(\u001b[43mdf\u001b[49m\u001b[43m[\u001b[49m\u001b[33;43m'\u001b[39;49m\u001b[33;43mCountry of Origin\u001b[39;49m\u001b[33;43m'\u001b[39;49m\u001b[43m]\u001b[49m\u001b[43m.\u001b[49m\u001b[43mmedian\u001b[49m\u001b[43m(\u001b[49m\u001b[43m)\u001b[49m,inplace=\u001b[38;5;28;01mTrue\u001b[39;00m)\n",
      "\u001b[36mFile \u001b[39m\u001b[32mc:\\Users\\aaa\\AppData\\Local\\Programs\\Python\\Python311\\Lib\\site-packages\\pandas\\core\\series.py:6559\u001b[39m, in \u001b[36mSeries.median\u001b[39m\u001b[34m(self, axis, skipna, numeric_only, **kwargs)\u001b[39m\n\u001b[32m   6551\u001b[39m \u001b[38;5;129m@doc\u001b[39m(make_doc(\u001b[33m\"\u001b[39m\u001b[33mmedian\u001b[39m\u001b[33m\"\u001b[39m, ndim=\u001b[32m1\u001b[39m))\n\u001b[32m   6552\u001b[39m \u001b[38;5;28;01mdef\u001b[39;00m\u001b[38;5;250m \u001b[39m\u001b[34mmedian\u001b[39m(\n\u001b[32m   6553\u001b[39m     \u001b[38;5;28mself\u001b[39m,\n\u001b[32m   (...)\u001b[39m\u001b[32m   6557\u001b[39m     **kwargs,\n\u001b[32m   6558\u001b[39m ):\n\u001b[32m-> \u001b[39m\u001b[32m6559\u001b[39m     \u001b[38;5;28;01mreturn\u001b[39;00m \u001b[43mNDFrame\u001b[49m\u001b[43m.\u001b[49m\u001b[43mmedian\u001b[49m\u001b[43m(\u001b[49m\u001b[38;5;28;43mself\u001b[39;49m\u001b[43m,\u001b[49m\u001b[43m \u001b[49m\u001b[43maxis\u001b[49m\u001b[43m,\u001b[49m\u001b[43m \u001b[49m\u001b[43mskipna\u001b[49m\u001b[43m,\u001b[49m\u001b[43m \u001b[49m\u001b[43mnumeric_only\u001b[49m\u001b[43m,\u001b[49m\u001b[43m \u001b[49m\u001b[43m*\u001b[49m\u001b[43m*\u001b[49m\u001b[43mkwargs\u001b[49m\u001b[43m)\u001b[49m\n",
      "\u001b[36mFile \u001b[39m\u001b[32mc:\\Users\\aaa\\AppData\\Local\\Programs\\Python\\Python311\\Lib\\site-packages\\pandas\\core\\generic.py:12431\u001b[39m, in \u001b[36mNDFrame.median\u001b[39m\u001b[34m(self, axis, skipna, numeric_only, **kwargs)\u001b[39m\n\u001b[32m  12424\u001b[39m \u001b[38;5;28;01mdef\u001b[39;00m\u001b[38;5;250m \u001b[39m\u001b[34mmedian\u001b[39m(\n\u001b[32m  12425\u001b[39m     \u001b[38;5;28mself\u001b[39m,\n\u001b[32m  12426\u001b[39m     axis: Axis | \u001b[38;5;28;01mNone\u001b[39;00m = \u001b[32m0\u001b[39m,\n\u001b[32m   (...)\u001b[39m\u001b[32m  12429\u001b[39m     **kwargs,\n\u001b[32m  12430\u001b[39m ) -> Series | \u001b[38;5;28mfloat\u001b[39m:\n\u001b[32m> \u001b[39m\u001b[32m12431\u001b[39m     \u001b[38;5;28;01mreturn\u001b[39;00m \u001b[38;5;28;43mself\u001b[39;49m\u001b[43m.\u001b[49m\u001b[43m_stat_function\u001b[49m\u001b[43m(\u001b[49m\n\u001b[32m  12432\u001b[39m \u001b[43m        \u001b[49m\u001b[33;43m\"\u001b[39;49m\u001b[33;43mmedian\u001b[39;49m\u001b[33;43m\"\u001b[39;49m\u001b[43m,\u001b[49m\u001b[43m \u001b[49m\u001b[43mnanops\u001b[49m\u001b[43m.\u001b[49m\u001b[43mnanmedian\u001b[49m\u001b[43m,\u001b[49m\u001b[43m \u001b[49m\u001b[43maxis\u001b[49m\u001b[43m,\u001b[49m\u001b[43m \u001b[49m\u001b[43mskipna\u001b[49m\u001b[43m,\u001b[49m\u001b[43m \u001b[49m\u001b[43mnumeric_only\u001b[49m\u001b[43m,\u001b[49m\u001b[43m \u001b[49m\u001b[43m*\u001b[49m\u001b[43m*\u001b[49m\u001b[43mkwargs\u001b[49m\n\u001b[32m  12433\u001b[39m \u001b[43m    \u001b[49m\u001b[43m)\u001b[49m\n",
      "\u001b[36mFile \u001b[39m\u001b[32mc:\\Users\\aaa\\AppData\\Local\\Programs\\Python\\Python311\\Lib\\site-packages\\pandas\\core\\generic.py:12377\u001b[39m, in \u001b[36mNDFrame._stat_function\u001b[39m\u001b[34m(self, name, func, axis, skipna, numeric_only, **kwargs)\u001b[39m\n\u001b[32m  12373\u001b[39m nv.validate_func(name, (), kwargs)\n\u001b[32m  12375\u001b[39m validate_bool_kwarg(skipna, \u001b[33m\"\u001b[39m\u001b[33mskipna\u001b[39m\u001b[33m\"\u001b[39m, none_allowed=\u001b[38;5;28;01mFalse\u001b[39;00m)\n\u001b[32m> \u001b[39m\u001b[32m12377\u001b[39m \u001b[38;5;28;01mreturn\u001b[39;00m \u001b[38;5;28;43mself\u001b[39;49m\u001b[43m.\u001b[49m\u001b[43m_reduce\u001b[49m\u001b[43m(\u001b[49m\n\u001b[32m  12378\u001b[39m \u001b[43m    \u001b[49m\u001b[43mfunc\u001b[49m\u001b[43m,\u001b[49m\u001b[43m \u001b[49m\u001b[43mname\u001b[49m\u001b[43m=\u001b[49m\u001b[43mname\u001b[49m\u001b[43m,\u001b[49m\u001b[43m \u001b[49m\u001b[43maxis\u001b[49m\u001b[43m=\u001b[49m\u001b[43maxis\u001b[49m\u001b[43m,\u001b[49m\u001b[43m \u001b[49m\u001b[43mskipna\u001b[49m\u001b[43m=\u001b[49m\u001b[43mskipna\u001b[49m\u001b[43m,\u001b[49m\u001b[43m \u001b[49m\u001b[43mnumeric_only\u001b[49m\u001b[43m=\u001b[49m\u001b[43mnumeric_only\u001b[49m\n\u001b[32m  12379\u001b[39m \u001b[43m\u001b[49m\u001b[43m)\u001b[49m\n",
      "\u001b[36mFile \u001b[39m\u001b[32mc:\\Users\\aaa\\AppData\\Local\\Programs\\Python\\Python311\\Lib\\site-packages\\pandas\\core\\series.py:6457\u001b[39m, in \u001b[36mSeries._reduce\u001b[39m\u001b[34m(self, op, name, axis, skipna, numeric_only, filter_type, **kwds)\u001b[39m\n\u001b[32m   6452\u001b[39m     \u001b[38;5;66;03m# GH#47500 - change to TypeError to match other methods\u001b[39;00m\n\u001b[32m   6453\u001b[39m     \u001b[38;5;28;01mraise\u001b[39;00m \u001b[38;5;167;01mTypeError\u001b[39;00m(\n\u001b[32m   6454\u001b[39m         \u001b[33mf\u001b[39m\u001b[33m\"\u001b[39m\u001b[33mSeries.\u001b[39m\u001b[38;5;132;01m{\u001b[39;00mname\u001b[38;5;132;01m}\u001b[39;00m\u001b[33m does not allow \u001b[39m\u001b[38;5;132;01m{\u001b[39;00mkwd_name\u001b[38;5;132;01m}\u001b[39;00m\u001b[33m=\u001b[39m\u001b[38;5;132;01m{\u001b[39;00mnumeric_only\u001b[38;5;132;01m}\u001b[39;00m\u001b[33m \u001b[39m\u001b[33m\"\u001b[39m\n\u001b[32m   6455\u001b[39m         \u001b[33m\"\u001b[39m\u001b[33mwith non-numeric dtypes.\u001b[39m\u001b[33m\"\u001b[39m\n\u001b[32m   6456\u001b[39m     )\n\u001b[32m-> \u001b[39m\u001b[32m6457\u001b[39m \u001b[38;5;28;01mreturn\u001b[39;00m \u001b[43mop\u001b[49m\u001b[43m(\u001b[49m\u001b[43mdelegate\u001b[49m\u001b[43m,\u001b[49m\u001b[43m \u001b[49m\u001b[43mskipna\u001b[49m\u001b[43m=\u001b[49m\u001b[43mskipna\u001b[49m\u001b[43m,\u001b[49m\u001b[43m \u001b[49m\u001b[43m*\u001b[49m\u001b[43m*\u001b[49m\u001b[43mkwds\u001b[49m\u001b[43m)\u001b[49m\n",
      "\u001b[36mFile \u001b[39m\u001b[32mc:\\Users\\aaa\\AppData\\Local\\Programs\\Python\\Python311\\Lib\\site-packages\\pandas\\core\\nanops.py:147\u001b[39m, in \u001b[36mbottleneck_switch.__call__.<locals>.f\u001b[39m\u001b[34m(values, axis, skipna, **kwds)\u001b[39m\n\u001b[32m    145\u001b[39m         result = alt(values, axis=axis, skipna=skipna, **kwds)\n\u001b[32m    146\u001b[39m \u001b[38;5;28;01melse\u001b[39;00m:\n\u001b[32m--> \u001b[39m\u001b[32m147\u001b[39m     result = \u001b[43malt\u001b[49m\u001b[43m(\u001b[49m\u001b[43mvalues\u001b[49m\u001b[43m,\u001b[49m\u001b[43m \u001b[49m\u001b[43maxis\u001b[49m\u001b[43m=\u001b[49m\u001b[43maxis\u001b[49m\u001b[43m,\u001b[49m\u001b[43m \u001b[49m\u001b[43mskipna\u001b[49m\u001b[43m=\u001b[49m\u001b[43mskipna\u001b[49m\u001b[43m,\u001b[49m\u001b[43m \u001b[49m\u001b[43m*\u001b[49m\u001b[43m*\u001b[49m\u001b[43mkwds\u001b[49m\u001b[43m)\u001b[49m\n\u001b[32m    149\u001b[39m \u001b[38;5;28;01mreturn\u001b[39;00m result\n",
      "\u001b[36mFile \u001b[39m\u001b[32mc:\\Users\\aaa\\AppData\\Local\\Programs\\Python\\Python311\\Lib\\site-packages\\pandas\\core\\nanops.py:787\u001b[39m, in \u001b[36mnanmedian\u001b[39m\u001b[34m(values, axis, skipna, mask)\u001b[39m\n\u001b[32m    785\u001b[39m     inferred = lib.infer_dtype(values)\n\u001b[32m    786\u001b[39m     \u001b[38;5;28;01mif\u001b[39;00m inferred \u001b[38;5;129;01min\u001b[39;00m [\u001b[33m\"\u001b[39m\u001b[33mstring\u001b[39m\u001b[33m\"\u001b[39m, \u001b[33m\"\u001b[39m\u001b[33mmixed\u001b[39m\u001b[33m\"\u001b[39m]:\n\u001b[32m--> \u001b[39m\u001b[32m787\u001b[39m         \u001b[38;5;28;01mraise\u001b[39;00m \u001b[38;5;167;01mTypeError\u001b[39;00m(\u001b[33mf\u001b[39m\u001b[33m\"\u001b[39m\u001b[33mCannot convert \u001b[39m\u001b[38;5;132;01m{\u001b[39;00mvalues\u001b[38;5;132;01m}\u001b[39;00m\u001b[33m to numeric\u001b[39m\u001b[33m\"\u001b[39m)\n\u001b[32m    788\u001b[39m \u001b[38;5;28;01mtry\u001b[39;00m:\n\u001b[32m    789\u001b[39m     values = values.astype(\u001b[33m\"\u001b[39m\u001b[33mf8\u001b[39m\u001b[33m\"\u001b[39m)\n",
      "\u001b[31mTypeError\u001b[39m: Cannot convert ['United States' 'Japan' 'United States' ... 'Japan' 'France'\n 'South Korea'] to numeric"
     ]
    }
   ],
   "source": [
    "df['Country of Origin'].fillna(df['Country of Origin'].median(),inplace=True) # bunda faqat raqamli qiymatlar bilan ishlatiladi"
   ]
  },
  {
   "cell_type": "code",
   "execution_count": null,
   "id": "ec3bda8f",
   "metadata": {},
   "outputs": [
    {
     "name": "stderr",
     "output_type": "stream",
     "text": [
      "C:\\Users\\aaa\\AppData\\Local\\Temp\\ipykernel_3988\\1512424970.py:1: FutureWarning: A value is trying to be set on a copy of a DataFrame or Series through chained assignment using an inplace method.\n",
      "The behavior will change in pandas 3.0. This inplace method will never work because the intermediate object on which we are setting values always behaves as a copy.\n",
      "\n",
      "For example, when doing 'df[col].method(value, inplace=True)', try using 'df.method({col: value}, inplace=True)' or df[col] = df[col].method(value) instead, to perform the operation inplace on the original object.\n",
      "\n",
      "\n",
      "  df['Unnamed: 0'].fillna(df['Unnamed: 0'].median(),inplace=True)\n"
     ]
    }
   ],
   "source": [
    "df['Unnamed: 0'].fillna(df['Unnamed: 0'].median(),inplace=True) \n",
    "# df['Unnamed: 0']\n",
    "#→ DataFrame (df) ichidagi 'Unnamed: 0' ustunini oladi.\n",
    "\n",
    "#.fillna(df['Unnamed: 0'].median()) → Ushbu ustundagi bo'sh qiymatlarni (NaN) shu ustunning median qiymati bilan to'ldiradi.\n",
    "#Median — o'rtacha tartibdagi qiymat (ortib borish tartibida joylashtirilganda o'rta joydagi qiymat).\n",
    "\n",
    "#inplace=True → Olingan natijani asosiy dfga o'zgartirib saqlaydi.(Yangi nusxa yaratmaydi, o'zi o'zgaradi.)"
   ]
  },
  {
   "cell_type": "code",
   "execution_count": 30,
   "id": "e66a5999",
   "metadata": {},
   "outputs": [
    {
     "data": {
      "text/plain": [
       "Unnamed: 0              0\n",
       "Title                   0\n",
       "Average Rating          0\n",
       "Director                0\n",
       "Writer                  1\n",
       "Metascore               0\n",
       "Cast                    0\n",
       "Release Date            0\n",
       "Country of Origin       3\n",
       "Languages              21\n",
       "Budget               2338\n",
       "Worldwide Gross      1094\n",
       "Runtime                 0\n",
       "dtype: int64"
      ]
     },
     "execution_count": 30,
     "metadata": {},
     "output_type": "execute_result"
    }
   ],
   "source": [
    "df.isnull().sum()"
   ]
  },
  {
   "cell_type": "code",
   "execution_count": 31,
   "id": "6022ba34",
   "metadata": {},
   "outputs": [
    {
     "name": "stdout",
     "output_type": "stream",
     "text": [
      "<class 'pandas.core.frame.DataFrame'>\n",
      "RangeIndex: 4989 entries, 0 to 4988\n",
      "Data columns (total 13 columns):\n",
      " #   Column             Non-Null Count  Dtype  \n",
      "---  ------             --------------  -----  \n",
      " 0   Unnamed: 0         4989 non-null   int64  \n",
      " 1   Title              4989 non-null   object \n",
      " 2   Average Rating     4989 non-null   float64\n",
      " 3   Director           4989 non-null   object \n",
      " 4   Writer             4988 non-null   object \n",
      " 5   Metascore          4989 non-null   float64\n",
      " 6   Cast               4989 non-null   object \n",
      " 7   Release Date       4989 non-null   object \n",
      " 8   Country of Origin  4986 non-null   object \n",
      " 9   Languages          4968 non-null   object \n",
      " 10  Budget             2651 non-null   object \n",
      " 11  Worldwide Gross    3895 non-null   object \n",
      " 12  Runtime            4989 non-null   object \n",
      "dtypes: float64(2), int64(1), object(10)\n",
      "memory usage: 506.8+ KB\n"
     ]
    }
   ],
   "source": [
    "df.info()"
   ]
  },
  {
   "cell_type": "markdown",
   "id": "00729579",
   "metadata": {},
   "source": [
    "# fixed bilan ishlash"
   ]
  },
  {
   "cell_type": "code",
   "execution_count": null,
   "id": "569302ed",
   "metadata": {},
   "outputs": [],
   "source": [
    "# fixed - o'zimiz istalgan qiytmat bilan to'ldirish"
   ]
  },
  {
   "cell_type": "code",
   "execution_count": 32,
   "id": "ec1216a8",
   "metadata": {},
   "outputs": [
    {
     "name": "stdout",
     "output_type": "stream",
     "text": [
      "<class 'pandas.core.frame.DataFrame'>\n",
      "RangeIndex: 4989 entries, 0 to 4988\n",
      "Data columns (total 13 columns):\n",
      " #   Column             Non-Null Count  Dtype  \n",
      "---  ------             --------------  -----  \n",
      " 0   Unnamed: 0         4989 non-null   int64  \n",
      " 1   Title              4989 non-null   object \n",
      " 2   Average Rating     4989 non-null   float64\n",
      " 3   Director           4989 non-null   object \n",
      " 4   Writer             4988 non-null   object \n",
      " 5   Metascore          4989 non-null   float64\n",
      " 6   Cast               4989 non-null   object \n",
      " 7   Release Date       4989 non-null   object \n",
      " 8   Country of Origin  4986 non-null   object \n",
      " 9   Languages          4968 non-null   object \n",
      " 10  Budget             2651 non-null   object \n",
      " 11  Worldwide Gross    3895 non-null   object \n",
      " 12  Runtime            4989 non-null   object \n",
      "dtypes: float64(2), int64(1), object(10)\n",
      "memory usage: 506.8+ KB\n"
     ]
    }
   ],
   "source": [
    "\n",
    "df.info()"
   ]
  },
  {
   "cell_type": "code",
   "execution_count": 33,
   "id": "2891fb29",
   "metadata": {},
   "outputs": [
    {
     "data": {
      "text/plain": [
       "Unnamed: 0              0\n",
       "Title                   0\n",
       "Average Rating          0\n",
       "Director                0\n",
       "Writer                  1\n",
       "Metascore               0\n",
       "Cast                    0\n",
       "Release Date            0\n",
       "Country of Origin       3\n",
       "Languages              21\n",
       "Budget               2338\n",
       "Worldwide Gross      1094\n",
       "Runtime                 0\n",
       "dtype: int64"
      ]
     },
     "execution_count": 33,
     "metadata": {},
     "output_type": "execute_result"
    }
   ],
   "source": [
    "df.isnull().sum()"
   ]
  },
  {
   "cell_type": "code",
   "execution_count": 34,
   "id": "28cf4be3",
   "metadata": {},
   "outputs": [
    {
     "data": {
      "text/plain": [
       "Languages\n",
       "English                                                    1514\n",
       "Hindi                                                       239\n",
       "Japanese                                                    160\n",
       "English, Spanish                                            142\n",
       "French                                                      130\n",
       "                                                           ... \n",
       "English, Japanese, Mandarin, French, Cantonese, Spanish       1\n",
       "Cantonese, English, Japanese                                  1\n",
       "Dutch, French, Flemish                                        1\n",
       "Arabic, English, Turkish                                      1\n",
       "Zulu, Sotho, Xhosa, Afrikaans, English                        1\n",
       "Name: count, Length: 1084, dtype: int64"
      ]
     },
     "execution_count": 34,
     "metadata": {},
     "output_type": "execute_result"
    }
   ],
   "source": [
    "df['Languages'].value_counts()"
   ]
  },
  {
   "cell_type": "code",
   "execution_count": 35,
   "id": "63c38872",
   "metadata": {},
   "outputs": [],
   "source": [
    "df['Languages'].fillna('English',inplace=True)"
   ]
  },
  {
   "cell_type": "code",
   "execution_count": 36,
   "id": "1681bb38",
   "metadata": {},
   "outputs": [
    {
     "data": {
      "text/plain": [
       "Unnamed: 0              0\n",
       "Title                   0\n",
       "Average Rating          0\n",
       "Director                0\n",
       "Writer                  1\n",
       "Metascore               0\n",
       "Cast                    0\n",
       "Release Date            0\n",
       "Country of Origin       3\n",
       "Languages               0\n",
       "Budget               2338\n",
       "Worldwide Gross      1094\n",
       "Runtime                 0\n",
       "dtype: int64"
      ]
     },
     "execution_count": 36,
     "metadata": {},
     "output_type": "execute_result"
    }
   ],
   "source": [
    "df.isnull().sum()"
   ]
  },
  {
   "cell_type": "code",
   "execution_count": 38,
   "id": "321bb154",
   "metadata": {},
   "outputs": [],
   "source": [
    "df=df.drop('Budget', axis=1)"
   ]
  },
  {
   "cell_type": "code",
   "execution_count": 39,
   "id": "71fa232b",
   "metadata": {},
   "outputs": [
    {
     "data": {
      "text/plain": [
       "Unnamed: 0              0\n",
       "Title                   0\n",
       "Average Rating          0\n",
       "Director                0\n",
       "Writer                  1\n",
       "Metascore               0\n",
       "Cast                    0\n",
       "Release Date            0\n",
       "Country of Origin       3\n",
       "Languages               0\n",
       "Worldwide Gross      1094\n",
       "Runtime                 0\n",
       "dtype: int64"
      ]
     },
     "execution_count": 39,
     "metadata": {},
     "output_type": "execute_result"
    }
   ],
   "source": [
    "df.isnull().sum()"
   ]
  },
  {
   "cell_type": "code",
   "execution_count": 40,
   "id": "6b52afd3",
   "metadata": {},
   "outputs": [],
   "source": [
    "df=df.dropna(subset='Writer', axis=0)"
   ]
  },
  {
   "cell_type": "code",
   "execution_count": 41,
   "id": "ddd5b1e7",
   "metadata": {},
   "outputs": [
    {
     "data": {
      "text/plain": [
       "Unnamed: 0              0\n",
       "Title                   0\n",
       "Average Rating          0\n",
       "Director                0\n",
       "Writer                  0\n",
       "Metascore               0\n",
       "Cast                    0\n",
       "Release Date            0\n",
       "Country of Origin       3\n",
       "Languages               0\n",
       "Worldwide Gross      1093\n",
       "Runtime                 0\n",
       "dtype: int64"
      ]
     },
     "execution_count": 41,
     "metadata": {},
     "output_type": "execute_result"
    }
   ],
   "source": [
    "df.isnull().sum()"
   ]
  },
  {
   "cell_type": "code",
   "execution_count": 42,
   "id": "2410a2d7",
   "metadata": {},
   "outputs": [
    {
     "data": {
      "text/plain": [
       "0        $29,332,133\n",
       "1         $3,513,659\n",
       "2       $250,342,198\n",
       "3                NaN\n",
       "4                NaN\n",
       "            ...     \n",
       "4984        $290,754\n",
       "4985             NaN\n",
       "4986     $29,893,636\n",
       "4987     $17,871,370\n",
       "4988        $550,031\n",
       "Name: Worldwide Gross, Length: 4988, dtype: object"
      ]
     },
     "execution_count": 42,
     "metadata": {},
     "output_type": "execute_result"
    }
   ],
   "source": [
    "df['Worldwide Gross']"
   ]
  },
  {
   "cell_type": "code",
   "execution_count": null,
   "id": "8f49186c",
   "metadata": {},
   "outputs": [],
   "source": [
    "missing_columns=['Country of Origin','Worldwide Gross']\n",
    "df[missing_columns]=df[missing_columns].fillna(df[missing_columns].iloc[0])\n",
    "# missing_columns ro'yxat\n",
    "#biz 2 ta ustun nomini ro'yxatga oldik:\n",
    "\n",
    "#'Country of Origin'\n",
    "\n",
    "#'Worldwide Gross'\n",
    "\n",
    "#df[missing_columns]\n",
    "#→ DataFrame (df) dan faqat shu 2 ta ustunni ajratib oldik.\n",
    "\n",
    "#.fillna(df[missing_columns].iloc[0])→ Har bir ustundagi NaN (missing) qiymatlarni shu ustunning birinchi satr (iloc[0]) qiymati bilan to'ldirdi. Bu usul tez va oddiy.\n",
    "\n",
    "#Lekin katta datasetlar va noaniq missinglar ko'p bo'lsa, har doim first row (iloc[0]) bilan to'ldirish xatolarga olib kelishi mumkin.\n",
    "\n",
    "# Statistika bo'yicha: katta datasetlar uchun mean, median yoki mode bilan to'ldirish tavsiya etiladi.inplace ishlatilmagan, shuning uchun to'ldirilgan natijani yana df[missing_columns] ga qaytadan saqlab qo'yyapsiz."
   ]
  },
  {
   "cell_type": "code",
   "execution_count": null,
   "id": "b8e80452",
   "metadata": {},
   "outputs": [],
   "source": []
  }
 ],
 "metadata": {
  "kernelspec": {
   "display_name": "Python 3",
   "language": "python",
   "name": "python3"
  },
  "language_info": {
   "codemirror_mode": {
    "name": "ipython",
    "version": 3
   },
   "file_extension": ".py",
   "mimetype": "text/x-python",
   "name": "python",
   "nbconvert_exporter": "python",
   "pygments_lexer": "ipython3",
   "version": "3.11.2"
  }
 },
 "nbformat": 4,
 "nbformat_minor": 5
}
