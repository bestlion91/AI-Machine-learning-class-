{
 "cells": [
  {
   "cell_type": "markdown",
   "id": "05c38941",
   "metadata": {},
   "source": [
    "# Data turlari va Operations"
   ]
  },
  {
   "cell_type": "markdown",
   "id": "a0d5f0a8",
   "metadata": {},
   "source": [
    "# Int"
   ]
  },
  {
   "cell_type": "code",
   "execution_count": null,
   "id": "d6f54df9",
   "metadata": {},
   "outputs": [
    {
     "data": {
      "text/plain": [
       "int"
      ]
     },
     "execution_count": 1,
     "metadata": {},
     "output_type": "execute_result"
    }
   ],
   "source": [
    "a=3\n",
    "type(a)"
   ]
  },
  {
   "cell_type": "code",
   "execution_count": 20,
   "id": "4a120a68",
   "metadata": {},
   "outputs": [
    {
     "name": "stdout",
     "output_type": "stream",
     "text": [
      "ikki sonning yigindisi: 30\n",
      "ikki sonning ayirmasi: -20\n",
      "ikki sonning kopaytmasi: 125\n",
      "ikki sonning bolinmasi: 0.2\n",
      "ikki sonning bolgandagi butun qismi: 0\n",
      "ikki sonning qoldiq qismi: 5\n",
      " x sonning kvadrati 25\n",
      "y sonning 4 darajasi: 390625\n",
      "9\n"
     ]
    }
   ],
   "source": [
    "x=5\n",
    "y=25\n",
    "print('ikki sonning yigindisi:',x+y)\n",
    "print('ikki sonning ayirmasi:',x-y)\n",
    "print('ikki sonning kopaytmasi:',x*y)\n",
    "print('ikki sonning bolinmasi:',x/y)\n",
    "print('ikki sonning bolgandagi butun qismi:',x//y)\n",
    "print('ikki sonning qoldiq qismi:',x%y)\n",
    "print(' x sonning kvadrati',x**2)\n",
    "print('y sonning 4 darajasi:', y**4)\n",
    "print(pow(3,2))"
   ]
  },
  {
   "cell_type": "code",
   "execution_count": 6,
   "id": "8bf46e06",
   "metadata": {},
   "outputs": [
    {
     "name": "stdout",
     "output_type": "stream",
     "text": [
      "sonning kubi 64\n"
     ]
    }
   ],
   "source": [
    "#istalgan son uchun amallar\n",
    "b=int(input('sonni tanlang:'))\n",
    "c=int(input('darajani kiriting:'))\n",
    "print('sonning kubi',pow(b,c))"
   ]
  },
  {
   "cell_type": "code",
   "execution_count": null,
   "id": "04b72b3f",
   "metadata": {},
   "outputs": [],
   "source": [
    "#logic operations\n"
   ]
  },
  {
   "cell_type": "code",
   "execution_count": null,
   "id": "998db0cd",
   "metadata": {},
   "outputs": [],
   "source": [
    "# and/or"
   ]
  },
  {
   "cell_type": "code",
   "execution_count": null,
   "id": "c76132ec",
   "metadata": {},
   "outputs": [],
   "source": [
    "#== teng bo'lsa \n",
    "!= teng emas \n"
   ]
  },
  {
   "cell_type": "code",
   "execution_count": 7,
   "id": "c37efcd4",
   "metadata": {},
   "outputs": [
    {
     "data": {
      "text/plain": [
       "str"
      ]
     },
     "execution_count": 7,
     "metadata": {},
     "output_type": "execute_result"
    }
   ],
   "source": [
    "s='Hello'\n",
    "type(s)"
   ]
  },
  {
   "cell_type": "code",
   "execution_count": 18,
   "id": "d0fe8225",
   "metadata": {},
   "outputs": [
    {
     "data": {
      "text/plain": [
       "[4]"
      ]
     },
     "execution_count": 18,
     "metadata": {},
     "output_type": "execute_result"
    }
   ],
   "source": [
    "s"
   ]
  },
  {
   "cell_type": "markdown",
   "id": "90a4a795",
   "metadata": {},
   "source": [
    "# Float"
   ]
  },
  {
   "cell_type": "markdown",
   "id": "f480a030",
   "metadata": {},
   "source": []
  },
  {
   "cell_type": "code",
   "execution_count": 2,
   "id": "b920ae37",
   "metadata": {},
   "outputs": [
    {
     "data": {
      "text/plain": [
       "float"
      ]
     },
     "execution_count": 2,
     "metadata": {},
     "output_type": "execute_result"
    }
   ],
   "source": [
    "b=3.5\n",
    "type(b)"
   ]
  },
  {
   "cell_type": "code",
   "execution_count": 3,
   "id": "3b9f4c2e",
   "metadata": {},
   "outputs": [
    {
     "data": {
      "text/plain": [
       "float"
      ]
     },
     "execution_count": 3,
     "metadata": {},
     "output_type": "execute_result"
    }
   ],
   "source": [
    "x=3.5\n",
    "type(x)"
   ]
  },
  {
   "cell_type": "markdown",
   "id": "4acfb7d7",
   "metadata": {},
   "source": [
    "# Str"
   ]
  },
  {
   "cell_type": "code",
   "execution_count": 7,
   "id": "4f44bccb",
   "metadata": {},
   "outputs": [
    {
     "data": {
      "text/plain": [
       "str"
      ]
     },
     "execution_count": 7,
     "metadata": {},
     "output_type": "execute_result"
    }
   ],
   "source": [
    "# string uchun misol\n",
    "s='Hello'\n",
    "type(s)"
   ]
  },
  {
   "cell_type": "code",
   "execution_count": null,
   "id": "b92437bb",
   "metadata": {},
   "outputs": [],
   "source": []
  },
  {
   "cell_type": "markdown",
   "id": "d5e8509f",
   "metadata": {},
   "source": []
  },
  {
   "cell_type": "markdown",
   "id": "a0a2d47c",
   "metadata": {},
   "source": [
    "# Boolean"
   ]
  },
  {
   "cell_type": "code",
   "execution_count": 5,
   "id": "8ce7e9f5",
   "metadata": {},
   "outputs": [
    {
     "data": {
      "text/plain": [
       "True"
      ]
     },
     "execution_count": 5,
     "metadata": {},
     "output_type": "execute_result"
    }
   ],
   "source": [
    "1<2"
   ]
  },
  {
   "cell_type": "code",
   "execution_count": 6,
   "id": "767403b7",
   "metadata": {},
   "outputs": [
    {
     "data": {
      "text/plain": [
       "False"
      ]
     },
     "execution_count": 6,
     "metadata": {},
     "output_type": "execute_result"
    }
   ],
   "source": [
    "15>20"
   ]
  },
  {
   "cell_type": "code",
   "execution_count": null,
   "id": "53419e49",
   "metadata": {},
   "outputs": [],
   "source": []
  },
  {
   "cell_type": "code",
   "execution_count": null,
   "id": "3ec1759e",
   "metadata": {},
   "outputs": [],
   "source": []
  },
  {
   "cell_type": "markdown",
   "id": "03264b0e",
   "metadata": {},
   "source": [
    "# Vazifalar"
   ]
  },
  {
   "cell_type": "code",
   "execution_count": 21,
   "id": "3b022747",
   "metadata": {},
   "outputs": [
    {
     "name": "stdout",
     "output_type": "stream",
     "text": [
      "Alisher Hush kelibsiz dasturimizga\n"
     ]
    }
   ],
   "source": [
    "s=input(str('ismingizni kiriting:'))\n",
    "print(s,'Hush kelibsiz dasturimizga')\n"
   ]
  },
  {
   "cell_type": "code",
   "execution_count": 23,
   "id": "d1918d73",
   "metadata": {},
   "outputs": [],
   "source": [
    "x='Alisher'"
   ]
  },
  {
   "cell_type": "code",
   "execution_count": 24,
   "id": "f66d4ebe",
   "metadata": {},
   "outputs": [
    {
     "data": {
      "text/plain": [
       "'A'"
      ]
     },
     "execution_count": 24,
     "metadata": {},
     "output_type": "execute_result"
    }
   ],
   "source": [
    "x[0]"
   ]
  },
  {
   "cell_type": "code",
   "execution_count": 26,
   "id": "ec34c405",
   "metadata": {},
   "outputs": [
    {
     "name": "stdout",
     "output_type": "stream",
     "text": [
      "Alisher ismingizdan quydagi sozni yasadim Asr\n"
     ]
    }
   ],
   "source": [
    "\n",
    "y=input(str('6 harfdan iborat soz kiriting'))\n",
    "print(y,'ismingizdan quydagi sozni yasadim',y[0]+y[3]+y[6])"
   ]
  },
  {
   "cell_type": "code",
   "execution_count": null,
   "id": "d4646794",
   "metadata": {},
   "outputs": [],
   "source": []
  }
 ],
 "metadata": {
  "kernelspec": {
   "display_name": "Python 3",
   "language": "python",
   "name": "python3"
  },
  "language_info": {
   "codemirror_mode": {
    "name": "ipython",
    "version": 3
   },
   "file_extension": ".py",
   "mimetype": "text/x-python",
   "name": "python",
   "nbconvert_exporter": "python",
   "pygments_lexer": "ipython3",
   "version": "3.11.2"
  }
 },
 "nbformat": 4,
 "nbformat_minor": 5
}
